{
 "cells": [
  {
   "cell_type": "code",
   "execution_count": 1,
   "id": "7f501c45",
   "metadata": {},
   "outputs": [],
   "source": [
    "import pandas as pd"
   ]
  },
  {
   "cell_type": "code",
   "execution_count": 2,
   "id": "675ea7a7",
   "metadata": {
    "scrolled": true
   },
   "outputs": [
    {
     "data": {
      "text/html": [
       "<div>\n",
       "<style scoped>\n",
       "    .dataframe tbody tr th:only-of-type {\n",
       "        vertical-align: middle;\n",
       "    }\n",
       "\n",
       "    .dataframe tbody tr th {\n",
       "        vertical-align: top;\n",
       "    }\n",
       "\n",
       "    .dataframe thead th {\n",
       "        text-align: right;\n",
       "    }\n",
       "</style>\n",
       "<table border=\"1\" class=\"dataframe\">\n",
       "  <thead>\n",
       "    <tr style=\"text-align: right;\">\n",
       "      <th></th>\n",
       "      <th>Age</th>\n",
       "      <th>What is your marital status?</th>\n",
       "      <th>Employment status</th>\n",
       "      <th>Is there women needs Empowerment?</th>\n",
       "      <th>What reminds you when thinking of women's in our society?</th>\n",
       "      <th>How do you perceive the availability and quality of educational opportunities for women in this city?</th>\n",
       "      <th>What percentage of women in your community do you believe have equal access to educational opportunities?</th>\n",
       "      <th>How engaged do you feel in the political processes of this city?</th>\n",
       "      <th>Are there adequate opportunities for women to participate in local politics?</th>\n",
       "      <th>How sati</th>\n",
       "      <th>Do you feel supported by your family/community in pursuing your goal?</th>\n",
       "      <th>On a scale of 1 to 5, how optimistic are you about the future of women's empowerment in your community?</th>\n",
       "      <th>Do you handle modern technology easily?</th>\n",
       "      <th>How many hours per week do you dedicate to your on hobbies?</th>\n",
       "      <th>Do you member of any Women group?</th>\n",
       "      <th>1) Which type of women group you are currently active?</th>\n",
       "      <th>Education</th>\n",
       "      <th>Have you experienced any obstacles in accessing education due to your gender?</th>\n",
       "    </tr>\n",
       "  </thead>\n",
       "  <tbody>\n",
       "    <tr>\n",
       "      <th>0</th>\n",
       "      <td>15-20</td>\n",
       "      <td>Single</td>\n",
       "      <td>Student</td>\n",
       "      <td>1</td>\n",
       "      <td>Weak</td>\n",
       "      <td>Fair</td>\n",
       "      <td>51-75%</td>\n",
       "      <td>3</td>\n",
       "      <td>Not sure</td>\n",
       "      <td>Satisfied</td>\n",
       "      <td>yes</td>\n",
       "      <td>5.0</td>\n",
       "      <td>high</td>\n",
       "      <td>2.0</td>\n",
       "      <td>No</td>\n",
       "      <td>NaN</td>\n",
       "      <td>Post Graduation</td>\n",
       "      <td>No</td>\n",
       "    </tr>\n",
       "    <tr>\n",
       "      <th>1</th>\n",
       "      <td>15-20</td>\n",
       "      <td>Single</td>\n",
       "      <td>Student</td>\n",
       "      <td>1</td>\n",
       "      <td>Helpless</td>\n",
       "      <td>Fair</td>\n",
       "      <td>51-75%</td>\n",
       "      <td>3</td>\n",
       "      <td>Not sure</td>\n",
       "      <td>Satisfied</td>\n",
       "      <td>yes</td>\n",
       "      <td>2.0</td>\n",
       "      <td>low</td>\n",
       "      <td>4.0</td>\n",
       "      <td>No</td>\n",
       "      <td>NaN</td>\n",
       "      <td>Graduation</td>\n",
       "      <td>No</td>\n",
       "    </tr>\n",
       "    <tr>\n",
       "      <th>2</th>\n",
       "      <td>15-20</td>\n",
       "      <td>Single</td>\n",
       "      <td>Student</td>\n",
       "      <td>1</td>\n",
       "      <td>Strong</td>\n",
       "      <td>Fair</td>\n",
       "      <td>51-75%</td>\n",
       "      <td>2</td>\n",
       "      <td>Not sure</td>\n",
       "      <td>Satisfied</td>\n",
       "      <td>yes</td>\n",
       "      <td>3.0</td>\n",
       "      <td>Moderate</td>\n",
       "      <td>4.0</td>\n",
       "      <td>Yes</td>\n",
       "      <td>NaN</td>\n",
       "      <td>Post Graduation</td>\n",
       "      <td>No</td>\n",
       "    </tr>\n",
       "    <tr>\n",
       "      <th>3</th>\n",
       "      <td>15-20</td>\n",
       "      <td>Single</td>\n",
       "      <td>Student</td>\n",
       "      <td>1</td>\n",
       "      <td>Weak</td>\n",
       "      <td>Good</td>\n",
       "      <td>51-75%</td>\n",
       "      <td>4</td>\n",
       "      <td>Yes</td>\n",
       "      <td>Satisfied</td>\n",
       "      <td>yes</td>\n",
       "      <td>4.0</td>\n",
       "      <td>high</td>\n",
       "      <td>8.0</td>\n",
       "      <td>No</td>\n",
       "      <td>NaN</td>\n",
       "      <td>Graduation</td>\n",
       "      <td>Yes</td>\n",
       "    </tr>\n",
       "    <tr>\n",
       "      <th>4</th>\n",
       "      <td>15-20</td>\n",
       "      <td>Single</td>\n",
       "      <td>Student</td>\n",
       "      <td>1</td>\n",
       "      <td>Strong</td>\n",
       "      <td>Excellent</td>\n",
       "      <td>51-75%</td>\n",
       "      <td>5</td>\n",
       "      <td>Yes</td>\n",
       "      <td>Very Satisfied</td>\n",
       "      <td>yes</td>\n",
       "      <td>5.0</td>\n",
       "      <td>high</td>\n",
       "      <td>14.0</td>\n",
       "      <td>Yes</td>\n",
       "      <td>NaN</td>\n",
       "      <td>Post Graduation</td>\n",
       "      <td>No</td>\n",
       "    </tr>\n",
       "    <tr>\n",
       "      <th>...</th>\n",
       "      <td>...</td>\n",
       "      <td>...</td>\n",
       "      <td>...</td>\n",
       "      <td>...</td>\n",
       "      <td>...</td>\n",
       "      <td>...</td>\n",
       "      <td>...</td>\n",
       "      <td>...</td>\n",
       "      <td>...</td>\n",
       "      <td>...</td>\n",
       "      <td>...</td>\n",
       "      <td>...</td>\n",
       "      <td>...</td>\n",
       "      <td>...</td>\n",
       "      <td>...</td>\n",
       "      <td>...</td>\n",
       "      <td>...</td>\n",
       "      <td>...</td>\n",
       "    </tr>\n",
       "    <tr>\n",
       "      <th>380</th>\n",
       "      <td>over 50 years</td>\n",
       "      <td>Widowed</td>\n",
       "      <td>Home Maker</td>\n",
       "      <td>1</td>\n",
       "      <td>Strong</td>\n",
       "      <td>Excellent</td>\n",
       "      <td>26-50%</td>\n",
       "      <td>4</td>\n",
       "      <td>No</td>\n",
       "      <td>Satisfied</td>\n",
       "      <td>yes</td>\n",
       "      <td>3.0</td>\n",
       "      <td>high</td>\n",
       "      <td>2.0</td>\n",
       "      <td>Yes</td>\n",
       "      <td>Savings group</td>\n",
       "      <td>Illiterate</td>\n",
       "      <td>No</td>\n",
       "    </tr>\n",
       "    <tr>\n",
       "      <th>381</th>\n",
       "      <td>over 50 years</td>\n",
       "      <td>Widowed</td>\n",
       "      <td>Home Maker</td>\n",
       "      <td>1</td>\n",
       "      <td>Helpless</td>\n",
       "      <td>Good</td>\n",
       "      <td>76-100%</td>\n",
       "      <td>4</td>\n",
       "      <td>No</td>\n",
       "      <td>Satisfied</td>\n",
       "      <td>yes</td>\n",
       "      <td>3.0</td>\n",
       "      <td>Moderate</td>\n",
       "      <td>0.0</td>\n",
       "      <td>No</td>\n",
       "      <td>NaN</td>\n",
       "      <td>Primary School</td>\n",
       "      <td>No</td>\n",
       "    </tr>\n",
       "    <tr>\n",
       "      <th>382</th>\n",
       "      <td>over 50 years</td>\n",
       "      <td>Widowed</td>\n",
       "      <td>Home Maker</td>\n",
       "      <td>1</td>\n",
       "      <td>Weak</td>\n",
       "      <td>Good</td>\n",
       "      <td>26-50%</td>\n",
       "      <td>4</td>\n",
       "      <td>Yes</td>\n",
       "      <td>Neutral(</td>\n",
       "      <td>yes</td>\n",
       "      <td>3.0</td>\n",
       "      <td>Moderate</td>\n",
       "      <td>0.0</td>\n",
       "      <td>No</td>\n",
       "      <td>NaN</td>\n",
       "      <td>Primary School</td>\n",
       "      <td>No</td>\n",
       "    </tr>\n",
       "    <tr>\n",
       "      <th>383</th>\n",
       "      <td>over 50 years</td>\n",
       "      <td>Widowed</td>\n",
       "      <td>Home Maker</td>\n",
       "      <td>1</td>\n",
       "      <td>Weak</td>\n",
       "      <td>Good</td>\n",
       "      <td>26-50%</td>\n",
       "      <td>4</td>\n",
       "      <td>Yes</td>\n",
       "      <td>Very Satisfied</td>\n",
       "      <td>yes</td>\n",
       "      <td>3.0</td>\n",
       "      <td>low</td>\n",
       "      <td>1.0</td>\n",
       "      <td>Yes</td>\n",
       "      <td>Savings group</td>\n",
       "      <td>Secondary School</td>\n",
       "      <td>No</td>\n",
       "    </tr>\n",
       "    <tr>\n",
       "      <th>384</th>\n",
       "      <td>over 50 years</td>\n",
       "      <td>Married</td>\n",
       "      <td>Unemploy</td>\n",
       "      <td>1</td>\n",
       "      <td>Weak</td>\n",
       "      <td>Excellent</td>\n",
       "      <td>26-50%</td>\n",
       "      <td>5</td>\n",
       "      <td>Not sure</td>\n",
       "      <td>Neutral(</td>\n",
       "      <td>yes</td>\n",
       "      <td>3.0</td>\n",
       "      <td>low</td>\n",
       "      <td>0.0</td>\n",
       "      <td>Yes</td>\n",
       "      <td>Savings group</td>\n",
       "      <td>Illiterate</td>\n",
       "      <td>No</td>\n",
       "    </tr>\n",
       "  </tbody>\n",
       "</table>\n",
       "<p>385 rows × 18 columns</p>\n",
       "</div>"
      ],
      "text/plain": [
       "               Age What is your marital status? Employment status  \\\n",
       "0            15-20                       Single           Student   \n",
       "1            15-20                       Single           Student   \n",
       "2            15-20                       Single           Student   \n",
       "3            15-20                       Single           Student   \n",
       "4            15-20                       Single           Student   \n",
       "..             ...                          ...               ...   \n",
       "380  over 50 years                      Widowed        Home Maker   \n",
       "381  over 50 years                      Widowed        Home Maker   \n",
       "382  over 50 years                      Widowed        Home Maker   \n",
       "383  over 50 years                      Widowed        Home Maker   \n",
       "384  over 50 years                      Married          Unemploy   \n",
       "\n",
       "      Is there women needs Empowerment?  \\\n",
       "0                                     1   \n",
       "1                                     1   \n",
       "2                                     1   \n",
       "3                                     1   \n",
       "4                                     1   \n",
       "..                                  ...   \n",
       "380                                   1   \n",
       "381                                   1   \n",
       "382                                   1   \n",
       "383                                   1   \n",
       "384                                   1   \n",
       "\n",
       "    What reminds you when thinking of women's in our society?  \\\n",
       "0                                                 Weak          \n",
       "1                                             Helpless          \n",
       "2                                               Strong          \n",
       "3                                                 Weak          \n",
       "4                                               Strong          \n",
       "..                                                 ...          \n",
       "380                                             Strong          \n",
       "381                                           Helpless          \n",
       "382                                               Weak          \n",
       "383                                               Weak          \n",
       "384                                               Weak          \n",
       "\n",
       "    How do you perceive the availability and quality of educational opportunities for women in this city?  \\\n",
       "0                                                 Fair                                                      \n",
       "1                                                 Fair                                                      \n",
       "2                                                 Fair                                                      \n",
       "3                                                 Good                                                      \n",
       "4                                            Excellent                                                      \n",
       "..                                                 ...                                                      \n",
       "380                                          Excellent                                                      \n",
       "381                                               Good                                                      \n",
       "382                                               Good                                                      \n",
       "383                                               Good                                                      \n",
       "384                                          Excellent                                                      \n",
       "\n",
       "    What percentage of women in your community do you believe have equal access to educational opportunities?  \\\n",
       "0                                               51-75%                                                          \n",
       "1                                               51-75%                                                          \n",
       "2                                               51-75%                                                          \n",
       "3                                               51-75%                                                          \n",
       "4                                               51-75%                                                          \n",
       "..                                                 ...                                                          \n",
       "380                                             26-50%                                                          \n",
       "381                                            76-100%                                                          \n",
       "382                                             26-50%                                                          \n",
       "383                                             26-50%                                                          \n",
       "384                                             26-50%                                                          \n",
       "\n",
       "     How engaged do you feel in the political processes of this city?  \\\n",
       "0                                                    3                  \n",
       "1                                                    3                  \n",
       "2                                                    2                  \n",
       "3                                                    4                  \n",
       "4                                                    5                  \n",
       "..                                                 ...                  \n",
       "380                                                  4                  \n",
       "381                                                  4                  \n",
       "382                                                  4                  \n",
       "383                                                  4                  \n",
       "384                                                  5                  \n",
       "\n",
       "    Are there adequate opportunities for women to participate in local politics?  \\\n",
       "0                                             Not sure                             \n",
       "1                                             Not sure                             \n",
       "2                                             Not sure                             \n",
       "3                                                  Yes                             \n",
       "4                                                  Yes                             \n",
       "..                                                 ...                             \n",
       "380                                                 No                             \n",
       "381                                                 No                             \n",
       "382                                                Yes                             \n",
       "383                                                Yes                             \n",
       "384                                           Not sure                             \n",
       "\n",
       "           How sati  \\\n",
       "0         Satisfied   \n",
       "1         Satisfied   \n",
       "2         Satisfied   \n",
       "3         Satisfied   \n",
       "4    Very Satisfied   \n",
       "..              ...   \n",
       "380       Satisfied   \n",
       "381       Satisfied   \n",
       "382        Neutral(   \n",
       "383  Very Satisfied   \n",
       "384        Neutral(   \n",
       "\n",
       "    Do you feel supported by your family/community in pursuing your goal?  \\\n",
       "0                                                  yes                      \n",
       "1                                                  yes                      \n",
       "2                                                  yes                      \n",
       "3                                                  yes                      \n",
       "4                                                  yes                      \n",
       "..                                                 ...                      \n",
       "380                                                yes                      \n",
       "381                                                yes                      \n",
       "382                                                yes                      \n",
       "383                                                yes                      \n",
       "384                                                yes                      \n",
       "\n",
       "     On a scale of 1 to 5, how optimistic are you about the future of women's empowerment in your community?  \\\n",
       "0                                                  5.0                                                         \n",
       "1                                                  2.0                                                         \n",
       "2                                                  3.0                                                         \n",
       "3                                                  4.0                                                         \n",
       "4                                                  5.0                                                         \n",
       "..                                                 ...                                                         \n",
       "380                                                3.0                                                         \n",
       "381                                                3.0                                                         \n",
       "382                                                3.0                                                         \n",
       "383                                                3.0                                                         \n",
       "384                                                3.0                                                         \n",
       "\n",
       "    Do you handle modern technology easily?  \\\n",
       "0                                      high   \n",
       "1                                       low   \n",
       "2                                  Moderate   \n",
       "3                                      high   \n",
       "4                                      high   \n",
       "..                                      ...   \n",
       "380                                    high   \n",
       "381                                Moderate   \n",
       "382                                Moderate   \n",
       "383                                     low   \n",
       "384                                     low   \n",
       "\n",
       "       How many hours per week do you dedicate to your on hobbies?  \\\n",
       "0                                                  2.0               \n",
       "1                                                  4.0               \n",
       "2                                                  4.0               \n",
       "3                                                  8.0               \n",
       "4                                                 14.0               \n",
       "..                                                 ...               \n",
       "380                                                2.0               \n",
       "381                                                0.0               \n",
       "382                                                0.0               \n",
       "383                                                1.0               \n",
       "384                                                0.0               \n",
       "\n",
       "     Do you member of any Women group?  \\\n",
       "0                                   No   \n",
       "1                                   No   \n",
       "2                                  Yes   \n",
       "3                                   No   \n",
       "4                                  Yes   \n",
       "..                                 ...   \n",
       "380                                Yes   \n",
       "381                                 No   \n",
       "382                                 No   \n",
       "383                                Yes   \n",
       "384                                Yes   \n",
       "\n",
       "    1) Which type of women group you are currently active?        Education   \\\n",
       "0                                                  NaN       Post Graduation   \n",
       "1                                                  NaN            Graduation   \n",
       "2                                                  NaN       Post Graduation   \n",
       "3                                                  NaN            Graduation   \n",
       "4                                                  NaN       Post Graduation   \n",
       "..                                                 ...                   ...   \n",
       "380                                      Savings group            Illiterate   \n",
       "381                                                NaN        Primary School   \n",
       "382                                                NaN        Primary School   \n",
       "383                                      Savings group      Secondary School   \n",
       "384                                      Savings group            Illiterate   \n",
       "\n",
       "    Have you experienced any obstacles in accessing education due to your gender?  \n",
       "0                                                   No                             \n",
       "1                                                   No                             \n",
       "2                                                   No                             \n",
       "3                                                  Yes                             \n",
       "4                                                   No                             \n",
       "..                                                 ...                             \n",
       "380                                                 No                             \n",
       "381                                                 No                             \n",
       "382                                                 No                             \n",
       "383                                                 No                             \n",
       "384                                                 No                             \n",
       "\n",
       "[385 rows x 18 columns]"
      ]
     },
     "execution_count": 2,
     "metadata": {},
     "output_type": "execute_result"
    }
   ],
   "source": [
    "data=pd.read_csv(\"D:\\Research project data1.csv\")\n",
    "data"
   ]
  },
  {
   "cell_type": "code",
   "execution_count": 29,
   "id": "59b94b25",
   "metadata": {},
   "outputs": [
    {
     "data": {
      "text/plain": [
       " Is there women needs Empowerment?\n",
       "1    0.981818\n",
       "0    0.018182\n",
       "Name: count, dtype: float64"
      ]
     },
     "execution_count": 29,
     "metadata": {},
     "output_type": "execute_result"
    }
   ],
   "source": [
    "data[' Is there women needs Empowerment?'].value_counts()/data.shape[0]"
   ]
  },
  {
   "cell_type": "code",
   "execution_count": 55,
   "id": "3533f13b",
   "metadata": {},
   "outputs": [
    {
     "data": {
      "text/plain": [
       "Do you feel supported by your family/community in pursuing your goal?\n",
       "yes    320\n",
       "No      65\n",
       "Name: count, dtype: int64"
      ]
     },
     "execution_count": 55,
     "metadata": {},
     "output_type": "execute_result"
    }
   ],
   "source": [
    "data['Do you feel supported by your family/community in pursuing your goal?'].value_counts()"
   ]
  },
  {
   "cell_type": "code",
   "execution_count": 59,
   "id": "c4c2af54",
   "metadata": {},
   "outputs": [],
   "source": [
    "import pandas as pd\n",
    "import numpy as np\n",
    "from matplotlib import pyplot as plt\n",
    "%matplotlib inline\n",
    "import seaborn as sns\n",
    "from sklearn.datasets import make_blobs, make_classification\n",
    "# create a imbalanced dataset of 10K with 2 class\n",
    "x,y = make_classification(n_samples=385  # number of samples\n",
    "                          ,n_features=2    # feature/label count\n",
    "                          ,n_informative=2 # informative features\n",
    "                          ,n_redundant=0   # redundant features\n",
    "                          ,n_repeated=0    # duplicate features\n",
    "                          ,n_clusters_per_class=1  # number of clusters per class; clusters during plotting\n",
    "                          ,weights=[0.98]   # proportions of samples assigned to each class\n",
    "                          ,flip_y=0         # fraction of samples whose class is assigned randomly. \n",
    "                          ,random_state=13 )\n",
    "# club together into a dataframe\n",
    "df = pd.DataFrame(x,columns=['Employment status','Education '])\n",
    "df[' Is there women needs Empowerment?'] = y\n"
   ]
  },
  {
   "cell_type": "code",
   "execution_count": 5,
   "id": "fd7be932",
   "metadata": {},
   "outputs": [
    {
     "data": {
      "text/plain": [
       " Is there women needs Empowerment?\n",
       "Yes    0.981818\n",
       "No     0.018182\n",
       "Name: count, dtype: float64"
      ]
     },
     "execution_count": 5,
     "metadata": {},
     "output_type": "execute_result"
    }
   ],
   "source": [
    "data[' Is there women needs Empowerment?'].value_counts()/data.shape[0]"
   ]
  },
  {
   "cell_type": "code",
   "execution_count": 61,
   "id": "1f57902e",
   "metadata": {},
   "outputs": [
    {
     "data": {
      "text/plain": [
       " Is there women needs Empowerment?\n",
       "0    0.981818\n",
       "1    0.018182\n",
       "Name: count, dtype: float64"
      ]
     },
     "execution_count": 61,
     "metadata": {},
     "output_type": "execute_result"
    }
   ],
   "source": [
    "data[' Is there women needs Empowerment?'].value_counts()/data.shape[0]\n"
   ]
  },
  {
   "cell_type": "code",
   "execution_count": 7,
   "id": "ee326165",
   "metadata": {},
   "outputs": [
    {
     "data": {
      "text/plain": [
       "<Axes: xlabel='Employment status', ylabel='Education '>"
      ]
     },
     "execution_count": 7,
     "metadata": {},
     "output_type": "execute_result"
    },
    {
     "data": {
      "image/png": "[encoded data removed]",
      "text/plain": [
       "<Figure size 1000x500 with 1 Axes>"
      ]
     },
     "metadata": {},
     "output_type": "display_data"
    }
   ],
   "source": [
    "import pandas as pd\n",
    "import numpy as np\n",
    "from matplotlib import pyplot as plt\n",
    "%matplotlib inline\n",
    "import seaborn as sns\n",
    "from sklearn.datasets import make_blobs, make_classification\n",
    "plt.figure(figsize=(10,5))\n",
    "sns.scatterplot(data=data,x='Employment status',y='Education ',hue=' Is there women needs Empowerment?')\n"
   ]
  },
  {
   "cell_type": "code",
   "execution_count": 4,
   "id": "56255929",
   "metadata": {},
   "outputs": [
    {
     "data": {
      "text/html": [
       "<div>\n",
       "<style scoped>\n",
       "    .dataframe tbody tr th:only-of-type {\n",
       "        vertical-align: middle;\n",
       "    }\n",
       "\n",
       "    .dataframe tbody tr th {\n",
       "        vertical-align: top;\n",
       "    }\n",
       "\n",
       "    .dataframe thead th {\n",
       "        text-align: right;\n",
       "    }\n",
       "</style>\n",
       "<table border=\"1\" class=\"dataframe\">\n",
       "  <thead>\n",
       "    <tr style=\"text-align: right;\">\n",
       "      <th></th>\n",
       "      <th>Education _ Secondary School</th>\n",
       "      <th>Education _Graduation</th>\n",
       "      <th>Education _Illiterate</th>\n",
       "      <th>Education _Post Graduation</th>\n",
       "      <th>Education _Primary School</th>\n",
       "      <th>Education _Secondary School</th>\n",
       "      <th>Employment status_Employed</th>\n",
       "      <th>Employment status_Home Maker</th>\n",
       "      <th>Employment status_Student</th>\n",
       "      <th>Employment status_Unemploy</th>\n",
       "      <th>What is your marital status?_Divorce</th>\n",
       "      <th>What is your marital status?_Married</th>\n",
       "      <th>What is your marital status?_Seperat</th>\n",
       "      <th>What is your marital status?_Single</th>\n",
       "      <th>What is your marital status?_Widowed</th>\n",
       "    </tr>\n",
       "  </thead>\n",
       "  <tbody>\n",
       "    <tr>\n",
       "      <th>0</th>\n",
       "      <td>False</td>\n",
       "      <td>False</td>\n",
       "      <td>False</td>\n",
       "      <td>True</td>\n",
       "      <td>False</td>\n",
       "      <td>False</td>\n",
       "      <td>False</td>\n",
       "      <td>False</td>\n",
       "      <td>True</td>\n",
       "      <td>False</td>\n",
       "      <td>False</td>\n",
       "      <td>False</td>\n",
       "      <td>False</td>\n",
       "      <td>True</td>\n",
       "      <td>False</td>\n",
       "    </tr>\n",
       "    <tr>\n",
       "      <th>1</th>\n",
       "      <td>False</td>\n",
       "      <td>True</td>\n",
       "      <td>False</td>\n",
       "      <td>False</td>\n",
       "      <td>False</td>\n",
       "      <td>False</td>\n",
       "      <td>False</td>\n",
       "      <td>False</td>\n",
       "      <td>True</td>\n",
       "      <td>False</td>\n",
       "      <td>False</td>\n",
       "      <td>False</td>\n",
       "      <td>False</td>\n",
       "      <td>True</td>\n",
       "      <td>False</td>\n",
       "    </tr>\n",
       "    <tr>\n",
       "      <th>2</th>\n",
       "      <td>False</td>\n",
       "      <td>False</td>\n",
       "      <td>False</td>\n",
       "      <td>True</td>\n",
       "      <td>False</td>\n",
       "      <td>False</td>\n",
       "      <td>False</td>\n",
       "      <td>False</td>\n",
       "      <td>True</td>\n",
       "      <td>False</td>\n",
       "      <td>False</td>\n",
       "      <td>False</td>\n",
       "      <td>False</td>\n",
       "      <td>True</td>\n",
       "      <td>False</td>\n",
       "    </tr>\n",
       "    <tr>\n",
       "      <th>3</th>\n",
       "      <td>False</td>\n",
       "      <td>True</td>\n",
       "      <td>False</td>\n",
       "      <td>False</td>\n",
       "      <td>False</td>\n",
       "      <td>False</td>\n",
       "      <td>False</td>\n",
       "      <td>False</td>\n",
       "      <td>True</td>\n",
       "      <td>False</td>\n",
       "      <td>False</td>\n",
       "      <td>False</td>\n",
       "      <td>False</td>\n",
       "      <td>True</td>\n",
       "      <td>False</td>\n",
       "    </tr>\n",
       "    <tr>\n",
       "      <th>4</th>\n",
       "      <td>False</td>\n",
       "      <td>False</td>\n",
       "      <td>False</td>\n",
       "      <td>True</td>\n",
       "      <td>False</td>\n",
       "      <td>False</td>\n",
       "      <td>False</td>\n",
       "      <td>False</td>\n",
       "      <td>True</td>\n",
       "      <td>False</td>\n",
       "      <td>False</td>\n",
       "      <td>False</td>\n",
       "      <td>False</td>\n",
       "      <td>True</td>\n",
       "      <td>False</td>\n",
       "    </tr>\n",
       "    <tr>\n",
       "      <th>...</th>\n",
       "      <td>...</td>\n",
       "      <td>...</td>\n",
       "      <td>...</td>\n",
       "      <td>...</td>\n",
       "      <td>...</td>\n",
       "      <td>...</td>\n",
       "      <td>...</td>\n",
       "      <td>...</td>\n",
       "      <td>...</td>\n",
       "      <td>...</td>\n",
       "      <td>...</td>\n",
       "      <td>...</td>\n",
       "      <td>...</td>\n",
       "      <td>...</td>\n",
       "      <td>...</td>\n",
       "    </tr>\n",
       "    <tr>\n",
       "      <th>380</th>\n",
       "      <td>False</td>\n",
       "      <td>False</td>\n",
       "      <td>True</td>\n",
       "      <td>False</td>\n",
       "      <td>False</td>\n",
       "      <td>False</td>\n",
       "      <td>False</td>\n",
       "      <td>True</td>\n",
       "      <td>False</td>\n",
       "      <td>False</td>\n",
       "      <td>False</td>\n",
       "      <td>False</td>\n",
       "      <td>False</td>\n",
       "      <td>False</td>\n",
       "      <td>True</td>\n",
       "    </tr>\n",
       "    <tr>\n",
       "      <th>381</th>\n",
       "      <td>False</td>\n",
       "      <td>False</td>\n",
       "      <td>False</td>\n",
       "      <td>False</td>\n",
       "      <td>True</td>\n",
       "      <td>False</td>\n",
       "      <td>False</td>\n",
       "      <td>True</td>\n",
       "      <td>False</td>\n",
       "      <td>False</td>\n",
       "      <td>False</td>\n",
       "      <td>False</td>\n",
       "      <td>False</td>\n",
       "      <td>False</td>\n",
       "      <td>True</td>\n",
       "    </tr>\n",
       "    <tr>\n",
       "      <th>382</th>\n",
       "      <td>False</td>\n",
       "      <td>False</td>\n",
       "      <td>False</td>\n",
       "      <td>False</td>\n",
       "      <td>True</td>\n",
       "      <td>False</td>\n",
       "      <td>False</td>\n",
       "      <td>True</td>\n",
       "      <td>False</td>\n",
       "      <td>False</td>\n",
       "      <td>False</td>\n",
       "      <td>False</td>\n",
       "      <td>False</td>\n",
       "      <td>False</td>\n",
       "      <td>True</td>\n",
       "    </tr>\n",
       "    <tr>\n",
       "      <th>383</th>\n",
       "      <td>False</td>\n",
       "      <td>False</td>\n",
       "      <td>False</td>\n",
       "      <td>False</td>\n",
       "      <td>False</td>\n",
       "      <td>True</td>\n",
       "      <td>False</td>\n",
       "      <td>True</td>\n",
       "      <td>False</td>\n",
       "      <td>False</td>\n",
       "      <td>False</td>\n",
       "      <td>False</td>\n",
       "      <td>False</td>\n",
       "      <td>False</td>\n",
       "      <td>True</td>\n",
       "    </tr>\n",
       "    <tr>\n",
       "      <th>384</th>\n",
       "      <td>False</td>\n",
       "      <td>False</td>\n",
       "      <td>True</td>\n",
       "      <td>False</td>\n",
       "      <td>False</td>\n",
       "      <td>False</td>\n",
       "      <td>False</td>\n",
       "      <td>False</td>\n",
       "      <td>False</td>\n",
       "      <td>True</td>\n",
       "      <td>False</td>\n",
       "      <td>True</td>\n",
       "      <td>False</td>\n",
       "      <td>False</td>\n",
       "      <td>False</td>\n",
       "    </tr>\n",
       "  </tbody>\n",
       "</table>\n",
       "<p>385 rows × 15 columns</p>\n",
       "</div>"
      ],
      "text/plain": [
       "     Education _ Secondary School  Education _Graduation  \\\n",
       "0                           False                  False   \n",
       "1                           False                   True   \n",
       "2                           False                  False   \n",
       "3                           False                   True   \n",
       "4                           False                  False   \n",
       "..                            ...                    ...   \n",
       "380                         False                  False   \n",
       "381                         False                  False   \n",
       "382                         False                  False   \n",
       "383                         False                  False   \n",
       "384                         False                  False   \n",
       "\n",
       "     Education _Illiterate  Education _Post Graduation  \\\n",
       "0                    False                        True   \n",
       "1                    False                       False   \n",
       "2                    False                        True   \n",
       "3                    False                       False   \n",
       "4                    False                        True   \n",
       "..                     ...                         ...   \n",
       "380                   True                       False   \n",
       "381                  False                       False   \n",
       "382                  False                       False   \n",
       "383                  False                       False   \n",
       "384                   True                       False   \n",
       "\n",
       "     Education _Primary School  Education _Secondary School  \\\n",
       "0                        False                        False   \n",
       "1                        False                        False   \n",
       "2                        False                        False   \n",
       "3                        False                        False   \n",
       "4                        False                        False   \n",
       "..                         ...                          ...   \n",
       "380                      False                        False   \n",
       "381                       True                        False   \n",
       "382                       True                        False   \n",
       "383                      False                         True   \n",
       "384                      False                        False   \n",
       "\n",
       "     Employment status_Employed  Employment status_Home Maker  \\\n",
       "0                         False                         False   \n",
       "1                         False                         False   \n",
       "2                         False                         False   \n",
       "3                         False                         False   \n",
       "4                         False                         False   \n",
       "..                          ...                           ...   \n",
       "380                       False                          True   \n",
       "381                       False                          True   \n",
       "382                       False                          True   \n",
       "383                       False                          True   \n",
       "384                       False                         False   \n",
       "\n",
       "     Employment status_Student  Employment status_Unemploy  \\\n",
       "0                         True                       False   \n",
       "1                         True                       False   \n",
       "2                         True                       False   \n",
       "3                         True                       False   \n",
       "4                         True                       False   \n",
       "..                         ...                         ...   \n",
       "380                      False                       False   \n",
       "381                      False                       False   \n",
       "382                      False                       False   \n",
       "383                      False                       False   \n",
       "384                      False                        True   \n",
       "\n",
       "     What is your marital status?_Divorce  \\\n",
       "0                                   False   \n",
       "1                                   False   \n",
       "2                                   False   \n",
       "3                                   False   \n",
       "4                                   False   \n",
       "..                                    ...   \n",
       "380                                 False   \n",
       "381                                 False   \n",
       "382                                 False   \n",
       "383                                 False   \n",
       "384                                 False   \n",
       "\n",
       "     What is your marital status?_Married  \\\n",
       "0                                   False   \n",
       "1                                   False   \n",
       "2                                   False   \n",
       "3                                   False   \n",
       "4                                   False   \n",
       "..                                    ...   \n",
       "380                                 False   \n",
       "381                                 False   \n",
       "382                                 False   \n",
       "383                                 False   \n",
       "384                                  True   \n",
       "\n",
       "     What is your marital status?_Seperat  \\\n",
       "0                                   False   \n",
       "1                                   False   \n",
       "2                                   False   \n",
       "3                                   False   \n",
       "4                                   False   \n",
       "..                                    ...   \n",
       "380                                 False   \n",
       "381                                 False   \n",
       "382                                 False   \n",
       "383                                 False   \n",
       "384                                 False   \n",
       "\n",
       "     What is your marital status?_Single  What is your marital status?_Widowed  \n",
       "0                                   True                                 False  \n",
       "1                                   True                                 False  \n",
       "2                                   True                                 False  \n",
       "3                                   True                                 False  \n",
       "4                                   True                                 False  \n",
       "..                                   ...                                   ...  \n",
       "380                                False                                  True  \n",
       "381                                False                                  True  \n",
       "382                                False                                  True  \n",
       "383                                False                                  True  \n",
       "384                                False                                 False  \n",
       "\n",
       "[385 rows x 15 columns]"
      ]
     },
     "execution_count": 4,
     "metadata": {},
     "output_type": "execute_result"
    }
   ],
   "source": [
    "from sklearn.linear_model import LogisticRegression\n",
    "from sklearn.model_selection import train_test_split, GridSearchCV, cross_val_score, RepeatedStratifiedKFold, StratifiedKFold\n",
    "from sklearn.metrics import accuracy_score, confusion_matrix,roc_curve, roc_auc_score, precision_score, recall_score, precision_recall_curve\n",
    "from sklearn.metrics import f1_score\n",
    "# split dataset into x,y\n",
    "X = data[['Education ','Employment status','What is your marital status?']]\n",
    "y = data[' Is there women needs Empowerment?']\n",
    "X = pd.get_dummies(X, columns=['Education ','Employment status','What is your marital status?'], drop_first=0)\n",
    "X\n",
    "\n"
   ]
  },
  {
   "cell_type": "code",
   "execution_count": 8,
   "id": "f3794fd8",
   "metadata": {},
   "outputs": [
    {
     "data": {
      "text/plain": [
       "Index([' Age', 'What is your marital status?', 'Employment status',\n",
       "       ' Is there women needs Empowerment?',\n",
       "       'What reminds you when thinking of women's in our society?',\n",
       "       'How do you perceive the availability and quality of educational opportunities for women in this city?',\n",
       "       'What percentage of women in your community do you believe have equal access to educational opportunities?',\n",
       "       'How engaged do you feel in the political processes of this city?',\n",
       "       'Are there adequate opportunities for women to participate in local politics?',\n",
       "       'How sati',\n",
       "       'Do you feel supported by your family/community in pursuing your goal?',\n",
       "       'On a scale of 1 to 5, how optimistic are you about the future of women's empowerment in your community?',\n",
       "       'Do you handle modern technology easily?',\n",
       "       '  How many hours per week do you dedicate to your on hobbies?',\n",
       "       ' Do you member of any Women group?',\n",
       "       '1) Which type of women group you are currently active?', 'Education ',\n",
       "       'Have you experienced any obstacles in accessing education due to your gender?'],\n",
       "      dtype='object')"
      ]
     },
     "execution_count": 8,
     "metadata": {},
     "output_type": "execute_result"
    }
   ],
   "source": [
    "data.columns"
   ]
  },
  {
   "cell_type": "code",
   "execution_count": 9,
   "id": "f6236968",
   "metadata": {},
   "outputs": [
    {
     "data": {
      "text/html": [
       "<div>\n",
       "<style scoped>\n",
       "    .dataframe tbody tr th:only-of-type {\n",
       "        vertical-align: middle;\n",
       "    }\n",
       "\n",
       "    .dataframe tbody tr th {\n",
       "        vertical-align: top;\n",
       "    }\n",
       "\n",
       "    .dataframe thead th {\n",
       "        text-align: right;\n",
       "    }\n",
       "</style>\n",
       "<table border=\"1\" class=\"dataframe\">\n",
       "  <thead>\n",
       "    <tr style=\"text-align: right;\">\n",
       "      <th></th>\n",
       "      <th>How engaged do you feel in the political processes of this city?</th>\n",
       "      <th>On a scale of 1 to 5, how optimistic are you about the future of women's empowerment in your community?</th>\n",
       "      <th>How many hours per week do you dedicate to your on hobbies?</th>\n",
       "    </tr>\n",
       "  </thead>\n",
       "  <tbody>\n",
       "    <tr>\n",
       "      <th>count</th>\n",
       "      <td>385.000000</td>\n",
       "      <td>384.000000</td>\n",
       "      <td>385.000000</td>\n",
       "    </tr>\n",
       "    <tr>\n",
       "      <th>mean</th>\n",
       "      <td>3.537662</td>\n",
       "      <td>3.591146</td>\n",
       "      <td>3.610390</td>\n",
       "    </tr>\n",
       "    <tr>\n",
       "      <th>std</th>\n",
       "      <td>1.094141</td>\n",
       "      <td>1.168349</td>\n",
       "      <td>3.641864</td>\n",
       "    </tr>\n",
       "    <tr>\n",
       "      <th>min</th>\n",
       "      <td>1.000000</td>\n",
       "      <td>1.000000</td>\n",
       "      <td>0.000000</td>\n",
       "    </tr>\n",
       "    <tr>\n",
       "      <th>25%</th>\n",
       "      <td>3.000000</td>\n",
       "      <td>3.000000</td>\n",
       "      <td>1.000000</td>\n",
       "    </tr>\n",
       "    <tr>\n",
       "      <th>50%</th>\n",
       "      <td>4.000000</td>\n",
       "      <td>4.000000</td>\n",
       "      <td>2.000000</td>\n",
       "    </tr>\n",
       "    <tr>\n",
       "      <th>75%</th>\n",
       "      <td>4.000000</td>\n",
       "      <td>5.000000</td>\n",
       "      <td>5.000000</td>\n",
       "    </tr>\n",
       "    <tr>\n",
       "      <th>max</th>\n",
       "      <td>5.000000</td>\n",
       "      <td>5.000000</td>\n",
       "      <td>40.000000</td>\n",
       "    </tr>\n",
       "  </tbody>\n",
       "</table>\n",
       "</div>"
      ],
      "text/plain": [
       "       How engaged do you feel in the political processes of this city?  \\\n",
       "count                                         385.000000                  \n",
       "mean                                            3.537662                  \n",
       "std                                             1.094141                  \n",
       "min                                             1.000000                  \n",
       "25%                                             3.000000                  \n",
       "50%                                             4.000000                  \n",
       "75%                                             4.000000                  \n",
       "max                                             5.000000                  \n",
       "\n",
       "       On a scale of 1 to 5, how optimistic are you about the future of women's empowerment in your community?  \\\n",
       "count                                         384.000000                                                         \n",
       "mean                                            3.591146                                                         \n",
       "std                                             1.168349                                                         \n",
       "min                                             1.000000                                                         \n",
       "25%                                             3.000000                                                         \n",
       "50%                                             4.000000                                                         \n",
       "75%                                             5.000000                                                         \n",
       "max                                             5.000000                                                         \n",
       "\n",
       "         How many hours per week do you dedicate to your on hobbies?  \n",
       "count                                         385.000000              \n",
       "mean                                            3.610390              \n",
       "std                                             3.641864              \n",
       "min                                             0.000000              \n",
       "25%                                             1.000000              \n",
       "50%                                             2.000000              \n",
       "75%                                             5.000000              \n",
       "max                                            40.000000              "
      ]
     },
     "execution_count": 9,
     "metadata": {},
     "output_type": "execute_result"
    }
   ],
   "source": [
    "data.describe()"
   ]
  },
  {
   "cell_type": "code",
   "execution_count": 8,
   "id": "612fa16f",
   "metadata": {},
   "outputs": [
    {
     "name": "stdout",
     "output_type": "stream",
     "text": [
      "<class 'pandas.core.frame.DataFrame'>\n",
      "RangeIndex: 385 entries, 0 to 384\n",
      "Data columns (total 18 columns):\n",
      " #   Column                                                                                                     Non-Null Count  Dtype  \n",
      "---  ------                                                                                                     --------------  -----  \n",
      " 0    Age                                                                                                       385 non-null    object \n",
      " 1   What is your marital status?                                                                               385 non-null    object \n",
      " 2   Employment status                                                                                          385 non-null    object \n",
      " 3    Is there women needs Empowerment?                                                                         385 non-null    object \n",
      " 4   What reminds you when thinking of women's in our society?                                                  385 non-null    object \n",
      " 5   How do you perceive the availability and quality of educational opportunities for women in this city?      385 non-null    object \n",
      " 6   What percentage of women in your community do you believe have equal access to educational opportunities?  385 non-null    object \n",
      " 7   How engaged do you feel in the political processes of this city?                                           385 non-null    int64  \n",
      " 8   Are there adequate opportunities for women to participate in local politics?                               385 non-null    object \n",
      " 9   How sati                                                                                                   385 non-null    object \n",
      " 10  Do you feel supported by your family/community in pursuing your goal?                                      385 non-null    object \n",
      " 11  On a scale of 1 to 5, how optimistic are you about the future of women's empowerment in your community?    384 non-null    float64\n",
      " 12  Do you handle modern technology easily?                                                                    385 non-null    object \n",
      " 13    How many hours per week do you dedicate to your on hobbies?                                              385 non-null    float64\n",
      " 14   Do you member of any Women group?                                                                         385 non-null    object \n",
      " 15  1) Which type of women group you are currently active?                                                     178 non-null    object \n",
      " 16  Education                                                                                                  385 non-null    object \n",
      " 17  Have you experienced any obstacles in accessing education due to your gender?                              385 non-null    object \n",
      "dtypes: float64(2), int64(1), object(15)\n",
      "memory usage: 54.3+ KB\n"
     ]
    }
   ],
   "source": [
    "data.info()"
   ]
  },
  {
   "cell_type": "code",
   "execution_count": 10,
   "id": "cbacee92",
   "metadata": {},
   "outputs": [
    {
     "name": "stdout",
     "output_type": "stream",
     "text": [
      "['How engaged do you feel in the political processes of this city?'\n",
      " \"On a scale of 1 to 5, how optimistic are you about the future of women's empowerment in your community?\"\n",
      " '  How many hours per week do you dedicate to your on hobbies?']\n",
      "[' Age' 'What is your marital status?' 'Employment status'\n",
      " ' Is there women needs Empowerment?'\n",
      " \"What reminds you when thinking of women's in our society?\"\n",
      " 'How do you perceive the availability and quality of educational opportunities for women in this city?'\n",
      " 'What percentage of women in your community do you believe have equal access to educational opportunities?'\n",
      " 'Are there adequate opportunities for women to participate in local politics?'\n",
      " 'How sati'\n",
      " 'Do you feel supported by your family/community in pursuing your goal?'\n",
      " 'Do you handle modern technology easily?'\n",
      " ' Do you member of any Women group?'\n",
      " '1) Which type of women group you are currently active?' 'Education '\n",
      " 'Have you experienced any obstacles in accessing education due to your gender?']\n"
     ]
    }
   ],
   "source": [
    "numeric_features = data.select_dtypes(include=['float64', 'int64']).columns.values\n",
    "print(numeric_features)\n",
    "category_features = data.select_dtypes(include=['object', 'bool']).columns.values\n",
    "#category_features = category_features[category_features != 'y']\n",
    "print(category_features)"
   ]
  },
  {
   "cell_type": "code",
   "execution_count": 8,
   "id": "b6193665",
   "metadata": {},
   "outputs": [
    {
     "name": "stdout",
     "output_type": "stream",
     "text": [
      "Accuracy: 0.974025974025974\n",
      "Classification Report:\n",
      "               precision    recall  f1-score   support\n",
      "\n",
      "           0       0.00      0.00      0.00         2\n",
      "           1       0.97      1.00      0.99        75\n",
      "\n",
      "    accuracy                           0.97        77\n",
      "   macro avg       0.49      0.50      0.49        77\n",
      "weighted avg       0.95      0.97      0.96        77\n",
      "\n",
      "Confusion Matrix:\n",
      " [[ 0  2]\n",
      " [ 0 75]]\n",
      "ROC AUC Score: 0.41000000000000003\n",
      "Area Under Curve: 0.5\n",
      "Recall score: 1.0\n"
     ]
    },
    {
     "name": "stderr",
     "output_type": "stream",
     "text": [
      "C:\\Users\\sdkag\\anaconda3\\Lib\\site-packages\\sklearn\\metrics\\_classification.py:1469: UndefinedMetricWarning: Precision and F-score are ill-defined and being set to 0.0 in labels with no predicted samples. Use `zero_division` parameter to control this behavior.\n",
      "  _warn_prf(average, modifier, msg_start, len(result))\n",
      "C:\\Users\\sdkag\\anaconda3\\Lib\\site-packages\\sklearn\\metrics\\_classification.py:1469: UndefinedMetricWarning: Precision and F-score are ill-defined and being set to 0.0 in labels with no predicted samples. Use `zero_division` parameter to control this behavior.\n",
      "  _warn_prf(average, modifier, msg_start, len(result))\n",
      "C:\\Users\\sdkag\\anaconda3\\Lib\\site-packages\\sklearn\\metrics\\_classification.py:1469: UndefinedMetricWarning: Precision and F-score are ill-defined and being set to 0.0 in labels with no predicted samples. Use `zero_division` parameter to control this behavior.\n",
      "  _warn_prf(average, modifier, msg_start, len(result))\n"
     ]
    }
   ],
   "source": [
    "import pandas as pd\n",
    "from sklearn.model_selection import train_test_split\n",
    "from sklearn.linear_model import LogisticRegression\n",
    "from sklearn.metrics import accuracy_score, classification_report, confusion_matrix, roc_auc_score\n",
    "\n",
    "# Assuming you have a DataFrame 'df' with your data\n",
    "# Example data preparation (replace with your actual column names)\n",
    "X = data[['Education ','Employment status']]\n",
    "y = data[' Is there women needs Empowerment?']\n",
    "\n",
    "\n",
    "# Create dummy variables for categorical variable 'Gender'\n",
    "X = pd.get_dummies(X, columns=['Education ','Employment status'], drop_first=True)\n",
    "\n",
    "# Split the data into training and testing sets\n",
    "X_train, X_test, y_train, y_test = train_test_split(X, y, test_size=0.2, random_state=42)\n",
    "\n",
    "# Create and fit the logistic regression model\n",
    "model = LogisticRegression(random_state=13,class_weight=None)\n",
    "model.fit(X_train, y_train)\n",
    "\n",
    "# Make predictions on the test set\n",
    "y_pred = model.predict(X_test)\n",
    "\n",
    "# Evaluate performance\n",
    "print(\"Accuracy:\", accuracy_score(y_test, y_pred))\n",
    "print(\"Classification Report:\\n\", classification_report(y_test, y_pred))\n",
    "print(\"Confusion Matrix:\\n\", confusion_matrix(y_test, y_pred))\n",
    "print(\"ROC AUC Score:\", roc_auc_score(y_test, model.predict_proba(X_test)[:, 1]))\n",
    "print('Area Under Curve:', roc_auc_score(y_test, y_pred))\n",
    "print('Recall score:', recall_score(y_test,y_pred))\n",
    "\n"
   ]
  },
  {
   "cell_type": "code",
   "execution_count": 10,
   "id": "f18f2b1a",
   "metadata": {},
   "outputs": [
    {
     "data": {
      "text/plain": [
       "{0: 1, 1: 10}"
      ]
     },
     "execution_count": 10,
     "metadata": {},
     "output_type": "execute_result"
    }
   ],
   "source": [
    "w = {0:1, 1:10}\n",
    "w"
   ]
  },
  {
   "cell_type": "code",
   "execution_count": 11,
   "id": "42fa88f0",
   "metadata": {},
   "outputs": [
    {
     "name": "stdout",
     "output_type": "stream",
     "text": [
      "Accuracy Score: 0.974025974025974\n",
      "Confusion Matrix: \n",
      "[[ 0  2]\n",
      " [ 0 75]]\n",
      "Area Under Curve: 0.5\n",
      "Recall score: 1.0\n"
     ]
    }
   ],
   "source": [
    "lg2 = LogisticRegression(random_state=13, class_weight=w)\n",
    "# fit it\n",
    "lg2.fit(X_train,y_train)\n",
    "# test\n",
    "y_pred = lg2.predict(X_test)\n",
    "# performance\n",
    "print(f'Accuracy Score: {accuracy_score(y_test,y_pred)}')\n",
    "print(f'Confusion Matrix: \\n{confusion_matrix(y_test, y_pred)}')\n",
    "print(f'Area Under Curve: {roc_auc_score(y_test, y_pred)}')\n",
    "print(f'Recall score: {recall_score(y_test,y_pred)}')"
   ]
  },
  {
   "cell_type": "code",
   "execution_count": 12,
   "id": "d5874c75",
   "metadata": {},
   "outputs": [
    {
     "name": "stdout",
     "output_type": "stream",
     "text": [
      "              precision    recall  f1-score   support\n",
      "\n",
      "           0       0.00      0.00      0.00         2\n",
      "           1       0.97      1.00      0.99        75\n",
      "\n",
      "    accuracy                           0.97        77\n",
      "   macro avg       0.49      0.50      0.49        77\n",
      "weighted avg       0.95      0.97      0.96        77\n",
      "\n"
     ]
    },
    {
     "name": "stderr",
     "output_type": "stream",
     "text": [
      "C:\\Users\\sdkag\\anaconda3\\Lib\\site-packages\\sklearn\\metrics\\_classification.py:1469: UndefinedMetricWarning: Precision and F-score are ill-defined and being set to 0.0 in labels with no predicted samples. Use `zero_division` parameter to control this behavior.\n",
      "  _warn_prf(average, modifier, msg_start, len(result))\n",
      "C:\\Users\\sdkag\\anaconda3\\Lib\\site-packages\\sklearn\\metrics\\_classification.py:1469: UndefinedMetricWarning: Precision and F-score are ill-defined and being set to 0.0 in labels with no predicted samples. Use `zero_division` parameter to control this behavior.\n",
      "  _warn_prf(average, modifier, msg_start, len(result))\n",
      "C:\\Users\\sdkag\\anaconda3\\Lib\\site-packages\\sklearn\\metrics\\_classification.py:1469: UndefinedMetricWarning: Precision and F-score are ill-defined and being set to 0.0 in labels with no predicted samples. Use `zero_division` parameter to control this behavior.\n",
      "  _warn_prf(average, modifier, msg_start, len(result))\n"
     ]
    }
   ],
   "source": [
    "from sklearn.metrics import classification_report\n",
    "print(classification_report(y_test, y_pred))"
   ]
  },
  {
   "cell_type": "code",
   "execution_count": 13,
   "id": "c340aab5",
   "metadata": {},
   "outputs": [
    {
     "data": {
      "text/plain": [
       "array([1, 1, 1, 1, 1, 1, 1, 1, 1, 1, 1, 1, 1, 1, 1, 1, 1, 1, 1, 1, 1, 1,\n",
       "       1, 1, 1, 1, 1, 1, 1, 1, 1, 1, 1, 1, 1, 1, 1, 1, 1, 1, 1, 1, 1, 1,\n",
       "       1, 1, 1, 1, 1, 1, 1, 1, 1, 1, 1, 1, 1, 1, 1, 1, 1, 1, 1, 1, 1, 1,\n",
       "       1, 1, 1, 1, 1, 1, 1, 1, 1, 1, 1], dtype=int64)"
      ]
     },
     "execution_count": 13,
     "metadata": {},
     "output_type": "execute_result"
    }
   ],
   "source": [
    "y_pred"
   ]
  },
  {
   "cell_type": "code",
   "execution_count": 14,
   "id": "e45b8b04",
   "metadata": {},
   "outputs": [
    {
     "data": {
      "text/html": [
       "<style>#sk-container-id-1 {color: black;}#sk-container-id-1 pre{padding: 0;}#sk-container-id-1 div.sk-toggleable {background-color: white;}#sk-container-id-1 label.sk-toggleable__label {cursor: pointer;display: block;width: 100%;margin-bottom: 0;padding: 0.3em;box-sizing: border-box;text-align: center;}#sk-container-id-1 label.sk-toggleable__label-arrow:before {content: \"▸\";float: left;margin-right: 0.25em;color: #696969;}#sk-container-id-1 label.sk-toggleable__label-arrow:hover:before {color: black;}#sk-container-id-1 div.sk-estimator:hover label.sk-toggleable__label-arrow:before {color: black;}#sk-container-id-1 div.sk-toggleable__content {max-height: 0;max-width: 0;overflow: hidden;text-align: left;background-color: #f0f8ff;}#sk-container-id-1 div.sk-toggleable__content pre {margin: 0.2em;color: black;border-radius: 0.25em;background-color: #f0f8ff;}#sk-container-id-1 input.sk-toggleable__control:checked~div.sk-toggleable__content {max-height: 200px;max-width: 100%;overflow: auto;}#sk-container-id-1 input.sk-toggleable__control:checked~label.sk-toggleable__label-arrow:before {content: \"▾\";}#sk-container-id-1 div.sk-estimator input.sk-toggleable__control:checked~label.sk-toggleable__label {background-color: #d4ebff;}#sk-container-id-1 div.sk-label input.sk-toggleable__control:checked~label.sk-toggleable__label {background-color: #d4ebff;}#sk-container-id-1 input.sk-hidden--visually {border: 0;clip: rect(1px 1px 1px 1px);clip: rect(1px, 1px, 1px, 1px);height: 1px;margin: -1px;overflow: hidden;padding: 0;position: absolute;width: 1px;}#sk-container-id-1 div.sk-estimator {font-family: monospace;background-color: #f0f8ff;border: 1px dotted black;border-radius: 0.25em;box-sizing: border-box;margin-bottom: 0.5em;}#sk-container-id-1 div.sk-estimator:hover {background-color: #d4ebff;}#sk-container-id-1 div.sk-parallel-item::after {content: \"\";width: 100%;border-bottom: 1px solid gray;flex-grow: 1;}#sk-container-id-1 div.sk-label:hover label.sk-toggleable__label {background-color: #d4ebff;}#sk-container-id-1 div.sk-serial::before {content: \"\";position: absolute;border-left: 1px solid gray;box-sizing: border-box;top: 0;bottom: 0;left: 50%;z-index: 0;}#sk-container-id-1 div.sk-serial {display: flex;flex-direction: column;align-items: center;background-color: white;padding-right: 0.2em;padding-left: 0.2em;position: relative;}#sk-container-id-1 div.sk-item {position: relative;z-index: 1;}#sk-container-id-1 div.sk-parallel {display: flex;align-items: stretch;justify-content: center;background-color: white;position: relative;}#sk-container-id-1 div.sk-item::before, #sk-container-id-1 div.sk-parallel-item::before {content: \"\";position: absolute;border-left: 1px solid gray;box-sizing: border-box;top: 0;bottom: 0;left: 50%;z-index: -1;}#sk-container-id-1 div.sk-parallel-item {display: flex;flex-direction: column;z-index: 1;position: relative;background-color: white;}#sk-container-id-1 div.sk-parallel-item:first-child::after {align-self: flex-end;width: 50%;}#sk-container-id-1 div.sk-parallel-item:last-child::after {align-self: flex-start;width: 50%;}#sk-container-id-1 div.sk-parallel-item:only-child::after {width: 0;}#sk-container-id-1 div.sk-dashed-wrapped {border: 1px dashed gray;margin: 0 0.4em 0.5em 0.4em;box-sizing: border-box;padding-bottom: 0.4em;background-color: white;}#sk-container-id-1 div.sk-label label {font-family: monospace;font-weight: bold;display: inline-block;line-height: 1.2em;}#sk-container-id-1 div.sk-label-container {text-align: center;}#sk-container-id-1 div.sk-container {/* jupyter's `normalize.less` sets `[hidden] { display: none; }` but bootstrap.min.css set `[hidden] { display: none !important; }` so we also need the `!important` here to be able to override the default hidden behavior on the sphinx rendered scikit-learn.org. See: https://github.com/scikit-learn/scikit-learn/issues/21755 */display: inline-block !important;position: relative;}#sk-container-id-1 div.sk-text-repr-fallback {display: none;}</style><div id=\"sk-container-id-1\" class=\"sk-top-container\"><div class=\"sk-text-repr-fallback\"><pre>LogisticRegression()</pre><b>In a Jupyter environment, please rerun this cell to show the HTML representation or trust the notebook. <br />On GitHub, the HTML representation is unable to render, please try loading this page with nbviewer.org.</b></div><div class=\"sk-container\" hidden><div class=\"sk-item\"><div class=\"sk-estimator sk-toggleable\"><input class=\"sk-toggleable__control sk-hidden--visually\" id=\"sk-estimator-id-1\" type=\"checkbox\" checked><label for=\"sk-estimator-id-1\" class=\"sk-toggleable__label sk-toggleable__label-arrow\">LogisticRegression</label><div class=\"sk-toggleable__content\"><pre>LogisticRegression()</pre></div></div></div></div></div>"
      ],
      "text/plain": [
       "LogisticRegression()"
      ]
     },
     "execution_count": 14,
     "metadata": {},
     "output_type": "execute_result"
    }
   ],
   "source": [
    "from sklearn.linear_model import LogisticRegression\n",
    "from sklearn import metrics\n",
    "logreg = LogisticRegression()\n",
    "logreg.fit(X_train, y_train)"
   ]
  },
  {
   "cell_type": "code",
   "execution_count": 15,
   "id": "f5e76a77",
   "metadata": {},
   "outputs": [
    {
     "name": "stdout",
     "output_type": "stream",
     "text": [
      "Accuracy of logistic regression classifier on test set: 0.97\n"
     ]
    }
   ],
   "source": [
    "y_pred = logreg.predict(X_test)\n",
    "print('Accuracy of logistic regression classifier on test set: {:.2f}'.format(logreg.score(X_test, y_test)))"
   ]
  },
  {
   "cell_type": "code",
   "execution_count": 16,
   "id": "834ca3f6",
   "metadata": {},
   "outputs": [
    {
     "name": "stdout",
     "output_type": "stream",
     "text": [
      "10-fold cross validation average accuracy: 0.984\n"
     ]
    }
   ],
   "source": [
    "#Cross validation \n",
    "from sklearn import model_selection\n",
    "from sklearn.model_selection import cross_val_score\n",
    "kfold = model_selection.KFold(n_splits=10, random_state=7,shuffle=True)\n",
    "modelCV = LogisticRegression()\n",
    "scoring = 'accuracy'\n",
    "results = model_selection.cross_val_score(modelCV, X_train, y_train, cv=kfold, scoring=scoring)\n",
    "print(\"10-fold cross validation average accuracy: %.3f\" % (results.mean()))"
   ]
  },
  {
   "cell_type": "code",
   "execution_count": 17,
   "id": "c08918a0",
   "metadata": {},
   "outputs": [
    {
     "data": {
      "image/png": "[encoded data removed]",
      "text/plain": [
       "<Figure size 800x600 with 1 Axes>"
      ]
     },
     "metadata": {},
     "output_type": "display_data"
    }
   ],
   "source": [
    "from sklearn.metrics import roc_auc_score, roc_curve\n",
    "import matplotlib.pyplot as plt\n",
    "import numpy as np\n",
    "from sklearn.preprocessing import LabelEncoder\n",
    "\n",
    "\n",
    "# Assuming you already have the model trained (replace 'model' with your actual model)\n",
    "# model = LogisticRegression()\n",
    "# model.fit(X_train, y_train)\n",
    "\n",
    "# Convert 'No' to 0 and 'Yes' to 1 in the target variable\n",
    "le = LabelEncoder()\n",
    "y_test_numeric = le.fit_transform(y_test)\n",
    "\n",
    "# Calculate ROC AUC score using predicted probabilities\n",
    "logit_roc_auc = roc_auc_score(y_test_numeric, model.predict_proba(X_test)[:, 1])\n",
    "fpr, tpr, thresholds = roc_curve(y_test_numeric, model.predict_proba(X_test)[:, 1])\n",
    "\n",
    "# Plot the ROC curve\n",
    "plt.figure(figsize=(8, 6))\n",
    "plt.plot(fpr, tpr, label='Logistic Regression (AUC = %0.2f)' % logit_roc_auc)\n",
    "plt.plot([0, 1], [0, 1], 'r--')\n",
    "plt.xlim([0.0, 1.0])\n",
    "plt.ylim([0.0, 1.05])\n",
    "plt.xlabel('False Positive Rate')\n",
    "plt.ylabel('True Positive Rate')\n",
    "plt.title('Receiver Operating Characteristic (ROC) Curve')\n",
    "plt.legend(loc='lower right')\n",
    "plt.show()"
   ]
  },
  {
   "cell_type": "code",
   "execution_count": 20,
   "id": "7c92c572",
   "metadata": {},
   "outputs": [
    {
     "name": "stdout",
     "output_type": "stream",
     "text": [
      "Accuracy Score: 0.974025974025974\n",
      "Confusion Matrix: \n",
      "[[ 0  2]\n",
      " [ 0 75]]\n",
      "Area Under Curve: 0.5\n",
      "Recall score: 1.0\n"
     ]
    }
   ],
   "source": [
    "# define class weights\n",
    "w = {0:1, 1:10}\n",
    "# define model\n",
    "lg2 = LogisticRegression(random_state=13, class_weight=w)\n",
    "# fit it\n",
    "lg2.fit(X_train,y_train)\n",
    "# test\n",
    "y_pred = lg2.predict(X_test)\n",
    "# performance\n",
    "print(f'Accuracy Score: {accuracy_score(y_test,y_pred)}')\n",
    "print(f'Confusion Matrix: \\n{confusion_matrix(y_test, y_pred)}')\n",
    "print(f'Area Under Curve: {roc_auc_score(y_test, y_pred)}')\n",
    "print(f'Recall score: {recall_score(y_test,y_pred)}')\n",
    "\n",
    "\n"
   ]
  },
  {
   "cell_type": "code",
   "execution_count": 21,
   "id": "2561d784",
   "metadata": {},
   "outputs": [],
   "source": [
    "from sklearn.linear_model import LogisticRegression\n",
    "\n",
    "# Define class weights\n",
    "class_weights = {0: 1, 1: 98}  # Assuming the minority class (1) has 10 times the weight of the majority class (0)\n",
    "\n",
    "# Create logistic regression object with class weights\n",
    "model = LogisticRegression(class_weight=class_weights)\n",
    "\n",
    "# Fit the model\n",
    "model.fit(X_train, y_train)\n",
    "\n",
    "# Predict\n",
    "y_pred = model.predict(X_test)\n"
   ]
  },
  {
   "cell_type": "code",
   "execution_count": 23,
   "id": "48e8715e",
   "metadata": {},
   "outputs": [
    {
     "name": "stdout",
     "output_type": "stream",
     "text": [
      "Accuracy Score: 0.974025974025974\n",
      "Confusion Matrix: \n",
      "[[ 0  2]\n",
      " [ 0 75]]\n",
      "Area Under Curve: 0.5\n",
      "Recall score: 1.0\n"
     ]
    }
   ],
   "source": [
    "lg3 = LogisticRegression(random_state=13, class_weight={0:1, 1:})\n",
    "# fit it\n",
    "lg3.fit(X_train,y_train)\n",
    "# test\n",
    "y_pred = lg3.predict(X_test)\n",
    "# performance\n",
    "print(f'Accuracy Score: {accuracy_score(y_test,y_pred)}')\n",
    "print(f'Confusion Matrix: \\n{confusion_matrix(y_test, y_pred)}')\n",
    "print(f'Area Under Curve: {roc_auc_score(y_test, y_pred)}')\n",
    "print(f'Recall score: {recall_score(y_test,y_pred)}')\n"
   ]
  },
  {
   "cell_type": "code",
   "execution_count": null,
   "id": "463112d2",
   "metadata": {},
   "outputs": [],
   "source": []
  },
  {
   "cell_type": "code",
   "execution_count": 6,
   "id": "6c442285",
   "metadata": {},
   "outputs": [],
   "source": [
    "import matplotlib.pyplot as plt"
   ]
  },
  {
   "cell_type": "code",
   "execution_count": 11,
   "id": "4245ce53",
   "metadata": {},
   "outputs": [
    {
     "data": {
      "text/plain": [
       "Text(0, 0.5, 'Count')"
      ]
     },
     "execution_count": 11,
     "metadata": {},
     "output_type": "execute_result"
    },
    {
     "data": {
      "image/png": "[encoded data removed]",
      "text/plain": [
       "<Figure size 640x480 with 1 Axes>"
      ]
     },
     "metadata": {},
     "output_type": "display_data"
    }
   ],
   "source": [
    "order = ['15-20', '21-30', '31-40','41-50','over 50 years']\n",
    "data[' Age'].value_counts().loc[order].plot(kind = 'bar')\n",
    "plt.title('Distribution of Age')\n",
    "plt.xlabel ('Age')\n",
    "plt.ylabel ('Count')"
   ]
  },
  {
   "cell_type": "code",
   "execution_count": 9,
   "id": "01295c19",
   "metadata": {},
   "outputs": [
    {
     "data": {
      "text/plain": [
       "Text(0, 0.5, 'Count')"
      ]
     },
     "execution_count": 9,
     "metadata": {},
     "output_type": "execute_result"
    },
    {
     "data": {
      "image/png": "[encoded data removed]",
      "text/plain": [
       "<Figure size 640x480 with 1 Axes>"
      ]
     },
     "metadata": {},
     "output_type": "display_data"
    }
   ],
   "source": [
    "data['Employment status'].value_counts().plot(kind = 'pie',autopct='%1.1f%%')\n",
    "plt.title('Distribution of Employment status ')\n",
    "plt.xlabel ('Employment status')\n",
    "plt.ylabel ('Count')"
   ]
  },
  {
   "cell_type": "code",
   "execution_count": 2,
   "id": "e7d0eedf",
   "metadata": {},
   "outputs": [
    {
     "data": {
      "image/png": "[encoded data removed]",
      "text/plain": [
       "<Figure size 640x480 with 1 Axes>"
      ]
     },
     "metadata": {},
     "output_type": "display_data"
    },
    {
     "data": {
      "application/vnd.plotly.v1+json": {
       "config": {
        "plotlyServerURL": "https://plot.ly"
       },
       "data": [
        {
         "hole": 0.5,
         "labels": [
          "Strong",
          "Weak",
          "Helpless"
         ],
         "type": "pie",
         "values": [
          "234",
          "95",
          "56"
         ]
        }
       ],
       "layout": {
        "template": {
         "data": {
          "bar": [
           {
            "error_x": {
             "color": "#2a3f5f"
            },
            "error_y": {
             "color": "#2a3f5f"
            },
            "marker": {
             "line": {
              "color": "#E5ECF6",
              "width": 0.5
             },
             "pattern": {
              "fillmode": "overlay",
              "size": 10,
              "solidity": 0.2
             }
            },
            "type": "bar"
           }
          ],
          "barpolar": [
           {
            "marker": {
             "line": {
              "color": "#E5ECF6",
              "width": 0.5
             },
             "pattern": {
              "fillmode": "overlay",
              "size": 10,
              "solidity": 0.2
             }
            },
            "type": "barpolar"
           }
          ],
          "carpet": [
           {
            "aaxis": {
             "endlinecolor": "#2a3f5f",
             "gridcolor": "white",
             "linecolor": "white",
             "minorgridcolor": "white",
             "startlinecolor": "#2a3f5f"
            },
            "baxis": {
             "endlinecolor": "#2a3f5f",
             "gridcolor": "white",
             "linecolor": "white",
             "minorgridcolor": "white",
             "startlinecolor": "#2a3f5f"
            },
            "type": "carpet"
           }
          ],
          "choropleth": [
           {
            "colorbar": {
             "outlinewidth": 0,
             "ticks": ""
            },
            "type": "choropleth"
           }
          ],
          "contour": [
           {
            "colorbar": {
             "outlinewidth": 0,
             "ticks": ""
            },
            "colorscale": [
             [
              0,
              "#0d0887"
             ],
             [
              0.1111111111111111,
              "#46039f"
             ],
             [
              0.2222222222222222,
              "#7201a8"
             ],
             [
              0.3333333333333333,
              "#9c179e"
             ],
             [
              0.4444444444444444,
              "#bd3786"
             ],
             [
              0.5555555555555556,
              "#d8576b"
             ],
             [
              0.6666666666666666,
              "#ed7953"
             ],
             [
              0.7777777777777778,
              "#fb9f3a"
             ],
             [
              0.8888888888888888,
              "#fdca26"
             ],
             [
              1,
              "#f0f921"
             ]
            ],
            "type": "contour"
           }
          ],
          "contourcarpet": [
           {
            "colorbar": {
             "outlinewidth": 0,
             "ticks": ""
            },
            "type": "contourcarpet"
           }
          ],
          "heatmap": [
           {
            "colorbar": {
             "outlinewidth": 0,
             "ticks": ""
            },
            "colorscale": [
             [
              0,
              "#0d0887"
             ],
             [
              0.1111111111111111,
              "#46039f"
             ],
             [
              0.2222222222222222,
              "#7201a8"
             ],
             [
              0.3333333333333333,
              "#9c179e"
             ],
             [
              0.4444444444444444,
              "#bd3786"
             ],
             [
              0.5555555555555556,
              "#d8576b"
             ],
             [
              0.6666666666666666,
              "#ed7953"
             ],
             [
              0.7777777777777778,
              "#fb9f3a"
             ],
             [
              0.8888888888888888,
              "#fdca26"
             ],
             [
              1,
              "#f0f921"
             ]
            ],
            "type": "heatmap"
           }
          ],
          "heatmapgl": [
           {
            "colorbar": {
             "outlinewidth": 0,
             "ticks": ""
            },
            "colorscale": [
             [
              0,
              "#0d0887"
             ],
             [
              0.1111111111111111,
              "#46039f"
             ],
             [
              0.2222222222222222,
              "#7201a8"
             ],
             [
              0.3333333333333333,
              "#9c179e"
             ],
             [
              0.4444444444444444,
              "#bd3786"
             ],
             [
              0.5555555555555556,
              "#d8576b"
             ],
             [
              0.6666666666666666,
              "#ed7953"
             ],
             [
              0.7777777777777778,
              "#fb9f3a"
             ],
             [
              0.8888888888888888,
              "#fdca26"
             ],
             [
              1,
              "#f0f921"
             ]
            ],
            "type": "heatmapgl"
           }
          ],
          "histogram": [
           {
            "marker": {
             "pattern": {
              "fillmode": "overlay",
              "size": 10,
              "solidity": 0.2
             }
            },
            "type": "histogram"
           }
          ],
          "histogram2d": [
           {
            "colorbar": {
             "outlinewidth": 0,
             "ticks": ""
            },
            "colorscale": [
             [
              0,
              "#0d0887"
             ],
             [
              0.1111111111111111,
              "#46039f"
             ],
             [
              0.2222222222222222,
              "#7201a8"
             ],
             [
              0.3333333333333333,
              "#9c179e"
             ],
             [
              0.4444444444444444,
              "#bd3786"
             ],
             [
              0.5555555555555556,
              "#d8576b"
             ],
             [
              0.6666666666666666,
              "#ed7953"
             ],
             [
              0.7777777777777778,
              "#fb9f3a"
             ],
             [
              0.8888888888888888,
              "#fdca26"
             ],
             [
              1,
              "#f0f921"
             ]
            ],
            "type": "histogram2d"
           }
          ],
          "histogram2dcontour": [
           {
            "colorbar": {
             "outlinewidth": 0,
             "ticks": ""
            },
            "colorscale": [
             [
              0,
              "#0d0887"
             ],
             [
              0.1111111111111111,
              "#46039f"
             ],
             [
              0.2222222222222222,
              "#7201a8"
             ],
             [
              0.3333333333333333,
              "#9c179e"
             ],
             [
              0.4444444444444444,
              "#bd3786"
             ],
             [
              0.5555555555555556,
              "#d8576b"
             ],
             [
              0.6666666666666666,
              "#ed7953"
             ],
             [
              0.7777777777777778,
              "#fb9f3a"
             ],
             [
              0.8888888888888888,
              "#fdca26"
             ],
             [
              1,
              "#f0f921"
             ]
            ],
            "type": "histogram2dcontour"
           }
          ],
          "mesh3d": [
           {
            "colorbar": {
             "outlinewidth": 0,
             "ticks": ""
            },
            "type": "mesh3d"
           }
          ],
          "parcoords": [
           {
            "line": {
             "colorbar": {
              "outlinewidth": 0,
              "ticks": ""
             }
            },
            "type": "parcoords"
           }
          ],
          "pie": [
           {
            "automargin": true,
            "type": "pie"
           }
          ],
          "scatter": [
           {
            "fillpattern": {
             "fillmode": "overlay",
             "size": 10,
             "solidity": 0.2
            },
            "type": "scatter"
           }
          ],
          "scatter3d": [
           {
            "line": {
             "colorbar": {
              "outlinewidth": 0,
              "ticks": ""
             }
            },
            "marker": {
             "colorbar": {
              "outlinewidth": 0,
              "ticks": ""
             }
            },
            "type": "scatter3d"
           }
          ],
          "scattercarpet": [
           {
            "marker": {
             "colorbar": {
              "outlinewidth": 0,
              "ticks": ""
             }
            },
            "type": "scattercarpet"
           }
          ],
          "scattergeo": [
           {
            "marker": {
             "colorbar": {
              "outlinewidth": 0,
              "ticks": ""
             }
            },
            "type": "scattergeo"
           }
          ],
          "scattergl": [
           {
            "marker": {
             "colorbar": {
              "outlinewidth": 0,
              "ticks": ""
             }
            },
            "type": "scattergl"
           }
          ],
          "scattermapbox": [
           {
            "marker": {
             "colorbar": {
              "outlinewidth": 0,
              "ticks": ""
             }
            },
            "type": "scattermapbox"
           }
          ],
          "scatterpolar": [
           {
            "marker": {
             "colorbar": {
              "outlinewidth": 0,
              "ticks": ""
             }
            },
            "type": "scatterpolar"
           }
          ],
          "scatterpolargl": [
           {
            "marker": {
             "colorbar": {
              "outlinewidth": 0,
              "ticks": ""
             }
            },
            "type": "scatterpolargl"
           }
          ],
          "scatterternary": [
           {
            "marker": {
             "colorbar": {
              "outlinewidth": 0,
              "ticks": ""
             }
            },
            "type": "scatterternary"
           }
          ],
          "surface": [
           {
            "colorbar": {
             "outlinewidth": 0,
             "ticks": ""
            },
            "colorscale": [
             [
              0,
              "#0d0887"
             ],
             [
              0.1111111111111111,
              "#46039f"
             ],
             [
              0.2222222222222222,
              "#7201a8"
             ],
             [
              0.3333333333333333,
              "#9c179e"
             ],
             [
              0.4444444444444444,
              "#bd3786"
             ],
             [
              0.5555555555555556,
              "#d8576b"
             ],
             [
              0.6666666666666666,
              "#ed7953"
             ],
             [
              0.7777777777777778,
              "#fb9f3a"
             ],
             [
              0.8888888888888888,
              "#fdca26"
             ],
             [
              1,
              "#f0f921"
             ]
            ],
            "type": "surface"
           }
          ],
          "table": [
           {
            "cells": {
             "fill": {
              "color": "#EBF0F8"
             },
             "line": {
              "color": "white"
             }
            },
            "header": {
             "fill": {
              "color": "#C8D4E3"
             },
             "line": {
              "color": "white"
             }
            },
            "type": "table"
           }
          ]
         },
         "layout": {
          "annotationdefaults": {
           "arrowcolor": "#2a3f5f",
           "arrowhead": 0,
           "arrowwidth": 1
          },
          "autotypenumbers": "strict",
          "coloraxis": {
           "colorbar": {
            "outlinewidth": 0,
            "ticks": ""
           }
          },
          "colorscale": {
           "diverging": [
            [
             0,
             "#8e0152"
            ],
            [
             0.1,
             "#c51b7d"
            ],
            [
             0.2,
             "#de77ae"
            ],
            [
             0.3,
             "#f1b6da"
            ],
            [
             0.4,
             "#fde0ef"
            ],
            [
             0.5,
             "#f7f7f7"
            ],
            [
             0.6,
             "#e6f5d0"
            ],
            [
             0.7,
             "#b8e186"
            ],
            [
             0.8,
             "#7fbc41"
            ],
            [
             0.9,
             "#4d9221"
            ],
            [
             1,
             "#276419"
            ]
           ],
           "sequential": [
            [
             0,
             "#0d0887"
            ],
            [
             0.1111111111111111,
             "#46039f"
            ],
            [
             0.2222222222222222,
             "#7201a8"
            ],
            [
             0.3333333333333333,
             "#9c179e"
            ],
            [
             0.4444444444444444,
             "#bd3786"
            ],
            [
             0.5555555555555556,
             "#d8576b"
            ],
            [
             0.6666666666666666,
             "#ed7953"
            ],
            [
             0.7777777777777778,
             "#fb9f3a"
            ],
            [
             0.8888888888888888,
             "#fdca26"
            ],
            [
             1,
             "#f0f921"
            ]
           ],
           "sequentialminus": [
            [
             0,
             "#0d0887"
            ],
            [
             0.1111111111111111,
             "#46039f"
            ],
            [
             0.2222222222222222,
             "#7201a8"
            ],
            [
             0.3333333333333333,
             "#9c179e"
            ],
            [
             0.4444444444444444,
             "#bd3786"
            ],
            [
             0.5555555555555556,
             "#d8576b"
            ],
            [
             0.6666666666666666,
             "#ed7953"
            ],
            [
             0.7777777777777778,
             "#fb9f3a"
            ],
            [
             0.8888888888888888,
             "#fdca26"
            ],
            [
             1,
             "#f0f921"
            ]
           ]
          },
          "colorway": [
           "#636efa",
           "#EF553B",
           "#00cc96",
           "#ab63fa",
           "#FFA15A",
           "#19d3f3",
           "#FF6692",
           "#B6E880",
           "#FF97FF",
           "#FECB52"
          ],
          "font": {
           "color": "#2a3f5f"
          },
          "geo": {
           "bgcolor": "white",
           "lakecolor": "white",
           "landcolor": "#E5ECF6",
           "showlakes": true,
           "showland": true,
           "subunitcolor": "white"
          },
          "hoverlabel": {
           "align": "left"
          },
          "hovermode": "closest",
          "mapbox": {
           "style": "light"
          },
          "paper_bgcolor": "white",
          "plot_bgcolor": "#E5ECF6",
          "polar": {
           "angularaxis": {
            "gridcolor": "white",
            "linecolor": "white",
            "ticks": ""
           },
           "bgcolor": "#E5ECF6",
           "radialaxis": {
            "gridcolor": "white",
            "linecolor": "white",
            "ticks": ""
           }
          },
          "scene": {
           "xaxis": {
            "backgroundcolor": "#E5ECF6",
            "gridcolor": "white",
            "gridwidth": 2,
            "linecolor": "white",
            "showbackground": true,
            "ticks": "",
            "zerolinecolor": "white"
           },
           "yaxis": {
            "backgroundcolor": "#E5ECF6",
            "gridcolor": "white",
            "gridwidth": 2,
            "linecolor": "white",
            "showbackground": true,
            "ticks": "",
            "zerolinecolor": "white"
           },
           "zaxis": {
            "backgroundcolor": "#E5ECF6",
            "gridcolor": "white",
            "gridwidth": 2,
            "linecolor": "white",
            "showbackground": true,
            "ticks": "",
            "zerolinecolor": "white"
           }
          },
          "shapedefaults": {
           "line": {
            "color": "#2a3f5f"
           }
          },
          "ternary": {
           "aaxis": {
            "gridcolor": "white",
            "linecolor": "white",
            "ticks": ""
           },
           "baxis": {
            "gridcolor": "white",
            "linecolor": "white",
            "ticks": ""
           },
           "bgcolor": "#E5ECF6",
           "caxis": {
            "gridcolor": "white",
            "linecolor": "white",
            "ticks": ""
           }
          },
          "title": {
           "x": 0.05
          },
          "xaxis": {
           "automargin": true,
           "gridcolor": "white",
           "linecolor": "white",
           "ticks": "",
           "title": {
            "standoff": 15
           },
           "zerolinecolor": "white",
           "zerolinewidth": 2
          },
          "yaxis": {
           "automargin": true,
           "gridcolor": "white",
           "linecolor": "white",
           "ticks": "",
           "title": {
            "standoff": 15
           },
           "zerolinecolor": "white",
           "zerolinewidth": 2
          }
         }
        },
        "title": {
         "text": "Distribution of status of women in city"
        }
       }
      },
      "text/html": [
       "<div>                            <div id=\"d5bfc539-f1e4-418a-b298-3019edd6a4ba\" class=\"plotly-graph-div\" style=\"height:525px; width:100%;\"></div>            <script type=\"text/javascript\">                require([\"plotly\"], function(Plotly) {                    window.PLOTLYENV=window.PLOTLYENV || {};                                    if (document.getElementById(\"d5bfc539-f1e4-418a-b298-3019edd6a4ba\")) {                    Plotly.newPlot(                        \"d5bfc539-f1e4-418a-b298-3019edd6a4ba\",                        [{\"hole\":0.5,\"labels\":[\"Strong\",\"Weak\",\"Helpless\"],\"values\":[\"234\",\"95\",\"56\"],\"type\":\"pie\"}],                        {\"template\":{\"data\":{\"histogram2dcontour\":[{\"type\":\"histogram2dcontour\",\"colorbar\":{\"outlinewidth\":0,\"ticks\":\"\"},\"colorscale\":[[0.0,\"#0d0887\"],[0.1111111111111111,\"#46039f\"],[0.2222222222222222,\"#7201a8\"],[0.3333333333333333,\"#9c179e\"],[0.4444444444444444,\"#bd3786\"],[0.5555555555555556,\"#d8576b\"],[0.6666666666666666,\"#ed7953\"],[0.7777777777777778,\"#fb9f3a\"],[0.8888888888888888,\"#fdca26\"],[1.0,\"#f0f921\"]]}],\"choropleth\":[{\"type\":\"choropleth\",\"colorbar\":{\"outlinewidth\":0,\"ticks\":\"\"}}],\"histogram2d\":[{\"type\":\"histogram2d\",\"colorbar\":{\"outlinewidth\":0,\"ticks\":\"\"},\"colorscale\":[[0.0,\"#0d0887\"],[0.1111111111111111,\"#46039f\"],[0.2222222222222222,\"#7201a8\"],[0.3333333333333333,\"#9c179e\"],[0.4444444444444444,\"#bd3786\"],[0.5555555555555556,\"#d8576b\"],[0.6666666666666666,\"#ed7953\"],[0.7777777777777778,\"#fb9f3a\"],[0.8888888888888888,\"#fdca26\"],[1.0,\"#f0f921\"]]}],\"heatmap\":[{\"type\":\"heatmap\",\"colorbar\":{\"outlinewidth\":0,\"ticks\":\"\"},\"colorscale\":[[0.0,\"#0d0887\"],[0.1111111111111111,\"#46039f\"],[0.2222222222222222,\"#7201a8\"],[0.3333333333333333,\"#9c179e\"],[0.4444444444444444,\"#bd3786\"],[0.5555555555555556,\"#d8576b\"],[0.6666666666666666,\"#ed7953\"],[0.7777777777777778,\"#fb9f3a\"],[0.8888888888888888,\"#fdca26\"],[1.0,\"#f0f921\"]]}],\"heatmapgl\":[{\"type\":\"heatmapgl\",\"colorbar\":{\"outlinewidth\":0,\"ticks\":\"\"},\"colorscale\":[[0.0,\"#0d0887\"],[0.1111111111111111,\"#46039f\"],[0.2222222222222222,\"#7201a8\"],[0.3333333333333333,\"#9c179e\"],[0.4444444444444444,\"#bd3786\"],[0.5555555555555556,\"#d8576b\"],[0.6666666666666666,\"#ed7953\"],[0.7777777777777778,\"#fb9f3a\"],[0.8888888888888888,\"#fdca26\"],[1.0,\"#f0f921\"]]}],\"contourcarpet\":[{\"type\":\"contourcarpet\",\"colorbar\":{\"outlinewidth\":0,\"ticks\":\"\"}}],\"contour\":[{\"type\":\"contour\",\"colorbar\":{\"outlinewidth\":0,\"ticks\":\"\"},\"colorscale\":[[0.0,\"#0d0887\"],[0.1111111111111111,\"#46039f\"],[0.2222222222222222,\"#7201a8\"],[0.3333333333333333,\"#9c179e\"],[0.4444444444444444,\"#bd3786\"],[0.5555555555555556,\"#d8576b\"],[0.6666666666666666,\"#ed7953\"],[0.7777777777777778,\"#fb9f3a\"],[0.8888888888888888,\"#fdca26\"],[1.0,\"#f0f921\"]]}],\"surface\":[{\"type\":\"surface\",\"colorbar\":{\"outlinewidth\":0,\"ticks\":\"\"},\"colorscale\":[[0.0,\"#0d0887\"],[0.1111111111111111,\"#46039f\"],[0.2222222222222222,\"#7201a8\"],[0.3333333333333333,\"#9c179e\"],[0.4444444444444444,\"#bd3786\"],[0.5555555555555556,\"#d8576b\"],[0.6666666666666666,\"#ed7953\"],[0.7777777777777778,\"#fb9f3a\"],[0.8888888888888888,\"#fdca26\"],[1.0,\"#f0f921\"]]}],\"mesh3d\":[{\"type\":\"mesh3d\",\"colorbar\":{\"outlinewidth\":0,\"ticks\":\"\"}}],\"scatter\":[{\"fillpattern\":{\"fillmode\":\"overlay\",\"size\":10,\"solidity\":0.2},\"type\":\"scatter\"}],\"parcoords\":[{\"type\":\"parcoords\",\"line\":{\"colorbar\":{\"outlinewidth\":0,\"ticks\":\"\"}}}],\"scatterpolargl\":[{\"type\":\"scatterpolargl\",\"marker\":{\"colorbar\":{\"outlinewidth\":0,\"ticks\":\"\"}}}],\"bar\":[{\"error_x\":{\"color\":\"#2a3f5f\"},\"error_y\":{\"color\":\"#2a3f5f\"},\"marker\":{\"line\":{\"color\":\"#E5ECF6\",\"width\":0.5},\"pattern\":{\"fillmode\":\"overlay\",\"size\":10,\"solidity\":0.2}},\"type\":\"bar\"}],\"scattergeo\":[{\"type\":\"scattergeo\",\"marker\":{\"colorbar\":{\"outlinewidth\":0,\"ticks\":\"\"}}}],\"scatterpolar\":[{\"type\":\"scatterpolar\",\"marker\":{\"colorbar\":{\"outlinewidth\":0,\"ticks\":\"\"}}}],\"histogram\":[{\"marker\":{\"pattern\":{\"fillmode\":\"overlay\",\"size\":10,\"solidity\":0.2}},\"type\":\"histogram\"}],\"scattergl\":[{\"type\":\"scattergl\",\"marker\":{\"colorbar\":{\"outlinewidth\":0,\"ticks\":\"\"}}}],\"scatter3d\":[{\"type\":\"scatter3d\",\"line\":{\"colorbar\":{\"outlinewidth\":0,\"ticks\":\"\"}},\"marker\":{\"colorbar\":{\"outlinewidth\":0,\"ticks\":\"\"}}}],\"scattermapbox\":[{\"type\":\"scattermapbox\",\"marker\":{\"colorbar\":{\"outlinewidth\":0,\"ticks\":\"\"}}}],\"scatterternary\":[{\"type\":\"scatterternary\",\"marker\":{\"colorbar\":{\"outlinewidth\":0,\"ticks\":\"\"}}}],\"scattercarpet\":[{\"type\":\"scattercarpet\",\"marker\":{\"colorbar\":{\"outlinewidth\":0,\"ticks\":\"\"}}}],\"carpet\":[{\"aaxis\":{\"endlinecolor\":\"#2a3f5f\",\"gridcolor\":\"white\",\"linecolor\":\"white\",\"minorgridcolor\":\"white\",\"startlinecolor\":\"#2a3f5f\"},\"baxis\":{\"endlinecolor\":\"#2a3f5f\",\"gridcolor\":\"white\",\"linecolor\":\"white\",\"minorgridcolor\":\"white\",\"startlinecolor\":\"#2a3f5f\"},\"type\":\"carpet\"}],\"table\":[{\"cells\":{\"fill\":{\"color\":\"#EBF0F8\"},\"line\":{\"color\":\"white\"}},\"header\":{\"fill\":{\"color\":\"#C8D4E3\"},\"line\":{\"color\":\"white\"}},\"type\":\"table\"}],\"barpolar\":[{\"marker\":{\"line\":{\"color\":\"#E5ECF6\",\"width\":0.5},\"pattern\":{\"fillmode\":\"overlay\",\"size\":10,\"solidity\":0.2}},\"type\":\"barpolar\"}],\"pie\":[{\"automargin\":true,\"type\":\"pie\"}]},\"layout\":{\"autotypenumbers\":\"strict\",\"colorway\":[\"#636efa\",\"#EF553B\",\"#00cc96\",\"#ab63fa\",\"#FFA15A\",\"#19d3f3\",\"#FF6692\",\"#B6E880\",\"#FF97FF\",\"#FECB52\"],\"font\":{\"color\":\"#2a3f5f\"},\"hovermode\":\"closest\",\"hoverlabel\":{\"align\":\"left\"},\"paper_bgcolor\":\"white\",\"plot_bgcolor\":\"#E5ECF6\",\"polar\":{\"bgcolor\":\"#E5ECF6\",\"angularaxis\":{\"gridcolor\":\"white\",\"linecolor\":\"white\",\"ticks\":\"\"},\"radialaxis\":{\"gridcolor\":\"white\",\"linecolor\":\"white\",\"ticks\":\"\"}},\"ternary\":{\"bgcolor\":\"#E5ECF6\",\"aaxis\":{\"gridcolor\":\"white\",\"linecolor\":\"white\",\"ticks\":\"\"},\"baxis\":{\"gridcolor\":\"white\",\"linecolor\":\"white\",\"ticks\":\"\"},\"caxis\":{\"gridcolor\":\"white\",\"linecolor\":\"white\",\"ticks\":\"\"}},\"coloraxis\":{\"colorbar\":{\"outlinewidth\":0,\"ticks\":\"\"}},\"colorscale\":{\"sequential\":[[0.0,\"#0d0887\"],[0.1111111111111111,\"#46039f\"],[0.2222222222222222,\"#7201a8\"],[0.3333333333333333,\"#9c179e\"],[0.4444444444444444,\"#bd3786\"],[0.5555555555555556,\"#d8576b\"],[0.6666666666666666,\"#ed7953\"],[0.7777777777777778,\"#fb9f3a\"],[0.8888888888888888,\"#fdca26\"],[1.0,\"#f0f921\"]],\"sequentialminus\":[[0.0,\"#0d0887\"],[0.1111111111111111,\"#46039f\"],[0.2222222222222222,\"#7201a8\"],[0.3333333333333333,\"#9c179e\"],[0.4444444444444444,\"#bd3786\"],[0.5555555555555556,\"#d8576b\"],[0.6666666666666666,\"#ed7953\"],[0.7777777777777778,\"#fb9f3a\"],[0.8888888888888888,\"#fdca26\"],[1.0,\"#f0f921\"]],\"diverging\":[[0,\"#8e0152\"],[0.1,\"#c51b7d\"],[0.2,\"#de77ae\"],[0.3,\"#f1b6da\"],[0.4,\"#fde0ef\"],[0.5,\"#f7f7f7\"],[0.6,\"#e6f5d0\"],[0.7,\"#b8e186\"],[0.8,\"#7fbc41\"],[0.9,\"#4d9221\"],[1,\"#276419\"]]},\"xaxis\":{\"gridcolor\":\"white\",\"linecolor\":\"white\",\"ticks\":\"\",\"title\":{\"standoff\":15},\"zerolinecolor\":\"white\",\"automargin\":true,\"zerolinewidth\":2},\"yaxis\":{\"gridcolor\":\"white\",\"linecolor\":\"white\",\"ticks\":\"\",\"title\":{\"standoff\":15},\"zerolinecolor\":\"white\",\"automargin\":true,\"zerolinewidth\":2},\"scene\":{\"xaxis\":{\"backgroundcolor\":\"#E5ECF6\",\"gridcolor\":\"white\",\"linecolor\":\"white\",\"showbackground\":true,\"ticks\":\"\",\"zerolinecolor\":\"white\",\"gridwidth\":2},\"yaxis\":{\"backgroundcolor\":\"#E5ECF6\",\"gridcolor\":\"white\",\"linecolor\":\"white\",\"showbackground\":true,\"ticks\":\"\",\"zerolinecolor\":\"white\",\"gridwidth\":2},\"zaxis\":{\"backgroundcolor\":\"#E5ECF6\",\"gridcolor\":\"white\",\"linecolor\":\"white\",\"showbackground\":true,\"ticks\":\"\",\"zerolinecolor\":\"white\",\"gridwidth\":2}},\"shapedefaults\":{\"line\":{\"color\":\"#2a3f5f\"}},\"annotationdefaults\":{\"arrowcolor\":\"#2a3f5f\",\"arrowhead\":0,\"arrowwidth\":1},\"geo\":{\"bgcolor\":\"white\",\"landcolor\":\"#E5ECF6\",\"subunitcolor\":\"white\",\"showland\":true,\"showlakes\":true,\"lakecolor\":\"white\"},\"title\":{\"x\":0.05},\"mapbox\":{\"style\":\"light\"}}},\"title\":{\"text\":\"Distribution of status of women in city\"}},                        {\"responsive\": true}                    ).then(function(){\n",
       "                            \n",
       "var gd = document.getElementById('d5bfc539-f1e4-418a-b298-3019edd6a4ba');\n",
       "var x = new MutationObserver(function (mutations, observer) {{\n",
       "        var display = window.getComputedStyle(gd).display;\n",
       "        if (!display || display === 'none') {{\n",
       "            console.log([gd, 'removed!']);\n",
       "            Plotly.purge(gd);\n",
       "            observer.disconnect();\n",
       "        }}\n",
       "}});\n",
       "\n",
       "// Listen for the removal of the full notebook cells\n",
       "var notebookContainer = gd.closest('#notebook-container');\n",
       "if (notebookContainer) {{\n",
       "    x.observe(notebookContainer, {childList: true});\n",
       "}}\n",
       "\n",
       "// Listen for the clearing of the current output cell\n",
       "var outputEl = gd.closest('.output');\n",
       "if (outputEl) {{\n",
       "    x.observe(outputEl, {childList: true});\n",
       "}}\n",
       "\n",
       "                        })                };                });            </script>        </div>"
      ]
     },
     "metadata": {},
     "output_type": "display_data"
    }
   ],
   "source": [
    "import pandas as pd\n",
    "import matplotlib.pyplot as plt\n",
    "import plotly.graph_objects as go\n",
    "\n",
    "# Extracting labels and values from the DataFrame\n",
    "labels = ['Strong','Weak','Helpless']\n",
    "values = ['234','95','56']\n",
    "\n",
    "# Using Matplotlib\n",
    "fig, ax = plt.subplots()\n",
    "\n",
    "# Plotting the outer circle (pie chart)\n",
    "ax.pie(values, labels=labels, autopct='%1.1f%%')\n",
    "\n",
    "# Drawing a white circle in the middle to create the doughnut effect\n",
    "centre_circle = plt.Circle((0,0),0.70,fc='white')\n",
    "fig = plt.gcf()\n",
    "fig.gca().add_artist(centre_circle)\n",
    "\n",
    "# Equal aspect ratio ensures that pie is drawn as a circle\n",
    "ax.axis('equal')  \n",
    "\n",
    "plt.title('Distribution of status of women in city')\n",
    "plt.show()\n",
    "\n",
    "# Using Plotly\n",
    "fig = go.Figure(data=[go.Pie(labels=labels, values=values, hole=.5)])\n",
    "fig.update_layout(title_text=\"Distribution of status of women in city\")\n",
    "fig.show()"
   ]
  },
  {
   "cell_type": "code",
   "execution_count": 13,
   "id": "7d31271e",
   "metadata": {},
   "outputs": [
    {
     "data": {
      "text/plain": [
       "What reminds you when thinking of women's in our society?\n",
       "Strong      234\n",
       "Weak         95\n",
       "Helpless     56\n",
       "Name: count, dtype: int64"
      ]
     },
     "execution_count": 13,
     "metadata": {},
     "output_type": "execute_result"
    }
   ],
   "source": [
    "data[\"What reminds you when thinking of women's in our society?\"].value_counts()"
   ]
  },
  {
   "cell_type": "code",
   "execution_count": 6,
   "id": "270bd81f",
   "metadata": {},
   "outputs": [
    {
     "data": {
      "text/plain": [
       "Text(0, 0.5, 'Count')"
      ]
     },
     "execution_count": 6,
     "metadata": {},
     "output_type": "execute_result"
    },
    {
     "data": {
      "image/png": "[encoded data removed]",
      "text/plain": [
       "<Figure size 640x480 with 1 Axes>"
      ]
     },
     "metadata": {},
     "output_type": "display_data"
    }
   ],
   "source": [
    "data['What is your marital status?'].value_counts().plot(kind = 'barh')\n",
    "plt.title('Distribution of Marital Status')\n",
    "plt.xlabel ('Marital status')\n",
    "plt.ylabel ('Count')"
   ]
  },
  {
   "cell_type": "code",
   "execution_count": 4,
   "id": "0631c831",
   "metadata": {},
   "outputs": [
    {
     "data": {
      "text/html": [
       "<div>\n",
       "<style scoped>\n",
       "    .dataframe tbody tr th:only-of-type {\n",
       "        vertical-align: middle;\n",
       "    }\n",
       "\n",
       "    .dataframe tbody tr th {\n",
       "        vertical-align: top;\n",
       "    }\n",
       "\n",
       "    .dataframe thead th {\n",
       "        text-align: right;\n",
       "    }\n",
       "</style>\n",
       "<table border=\"1\" class=\"dataframe\">\n",
       "  <thead>\n",
       "    <tr style=\"text-align: right;\">\n",
       "      <th>Are there adequate opportunities for women to participate in local politics?</th>\n",
       "      <th>No</th>\n",
       "      <th>Not sure</th>\n",
       "      <th>Yes</th>\n",
       "    </tr>\n",
       "    <tr>\n",
       "      <th>Employment status</th>\n",
       "      <th></th>\n",
       "      <th></th>\n",
       "      <th></th>\n",
       "    </tr>\n",
       "  </thead>\n",
       "  <tbody>\n",
       "    <tr>\n",
       "      <th>Employed</th>\n",
       "      <td>23</td>\n",
       "      <td>16</td>\n",
       "      <td>99</td>\n",
       "    </tr>\n",
       "    <tr>\n",
       "      <th>Home Maker</th>\n",
       "      <td>34</td>\n",
       "      <td>31</td>\n",
       "      <td>87</td>\n",
       "    </tr>\n",
       "    <tr>\n",
       "      <th>Student</th>\n",
       "      <td>4</td>\n",
       "      <td>12</td>\n",
       "      <td>50</td>\n",
       "    </tr>\n",
       "    <tr>\n",
       "      <th>Unemploy</th>\n",
       "      <td>9</td>\n",
       "      <td>10</td>\n",
       "      <td>10</td>\n",
       "    </tr>\n",
       "  </tbody>\n",
       "</table>\n",
       "</div>"
      ],
      "text/plain": [
       "Are there adequate opportunities for women to participate in local politics?  No  \\\n",
       "Employment status                                                                  \n",
       "Employed                                                                      23   \n",
       "Home Maker                                                                    34   \n",
       "Student                                                                        4   \n",
       "Unemploy                                                                       9   \n",
       "\n",
       "Are there adequate opportunities for women to participate in local politics?  Not sure  \\\n",
       "Employment status                                                                        \n",
       "Employed                                                                            16   \n",
       "Home Maker                                                                          31   \n",
       "Student                                                                             12   \n",
       "Unemploy                                                                            10   \n",
       "\n",
       "Are there adequate opportunities for women to participate in local politics?  Yes  \n",
       "Employment status                                                                  \n",
       "Employed                                                                       99  \n",
       "Home Maker                                                                     87  \n",
       "Student                                                                        50  \n",
       "Unemploy                                                                       10  "
      ]
     },
     "execution_count": 4,
     "metadata": {},
     "output_type": "execute_result"
    }
   ],
   "source": [
    "gender_medical = data.groupby(['Employment status','Are there adequate opportunities for women to participate in local politics?']).size().sort_values().unstack()\n",
    "gender_medical"
   ]
  },
  {
   "cell_type": "code",
   "execution_count": 5,
   "id": "a6515362",
   "metadata": {},
   "outputs": [
    {
     "data": {
      "image/png": "[encoded data removed]",
      "text/plain": [
       "<Figure size 640x480 with 1 Axes>"
      ]
     },
     "metadata": {},
     "output_type": "display_data"
    }
   ],
   "source": [
    "gender_medical = data.groupby(['Employment status','Are there adequate opportunities for women to participate in local politics?']).size().sort_values().unstack()\n",
    "gender_medical.plot(kind = 'bar')\n",
    "plt.title('Distribution of Opinion about participating in politics between womens')\n",
    "plt.xlabel('Employment status')\n",
    "plt.ylabel('Frequency')\n",
    "plt.tick_params(axis='x', labelright=True, labelleft=False)\n",
    "plt.show()"
   ]
  },
  {
   "cell_type": "code",
   "execution_count": 14,
   "id": "8d173dff",
   "metadata": {},
   "outputs": [
    {
     "name": "stdout",
     "output_type": "stream",
     "text": [
      "One-way ANOVA result:\n",
      "F-statistic: 4.370850564123343\n",
      "p-value: 0.0018172694937278135\n",
      "Reject null hypothesis: Means are not all equal\n"
     ]
    }
   ],
   "source": [
    "import pandas as pd\n",
    "from scipy.stats import f_oneway\n",
    "\n",
    "# Assuming your CSV file has columns: 'group' for group labels and 'value' for numerical data\n",
    "\n",
    "# Perform one-way ANOVA\n",
    "result = f_oneway(*(data[data['What is your marital status?'] == group]['  How many hours per week do you dedicate to your on hobbies?'] for group in data[].unique()))\n",
    "\n",
    "# Print the result\n",
    "print(\"One-way ANOVA result:\")\n",
    "print(\"F-statistic:\", result.statistic)\n",
    "print(\"p-value:\", result.pvalue)\n",
    "\n",
    "# Interpret the result\n",
    "alpha = 0.05\n",
    "if result.pvalue < alpha:\n",
    "    print(\"Reject null hypothesis: Means are not all equal\")\n",
    "else:\n",
    "    print(\"Fail to reject null hypothesis: Means are equal\")"
   ]
  },
  {
   "cell_type": "code",
   "execution_count": 17,
   "id": "f881b90d",
   "metadata": {},
   "outputs": [
    {
     "name": "stdout",
     "output_type": "stream",
     "text": [
      "ANOVA Table:\n",
      "                        sum_sq     df         F    PR(>F)\n",
      "C(marital_status)   224.019390    4.0  4.370851  0.001817\n",
      "Residual           4869.039051  380.0       NaN       NaN\n"
     ]
    }
   ],
   "source": [
    "import pandas as pd\n",
    "import statsmodels.api as sm\n",
    "from statsmodels.formula.api import ols\n",
    "hour_per_week=data['  How many hours per week do you dedicate to your on hobbies?']\n",
    "marital_status=data['What is your marital status?']\n",
    "model = ols('hour_per_week ~ C(marital_status)', data=data).fit()\n",
    "# Create ANOVA table\n",
    "anova_table = sm.stats.anova_lm(model, typ=2)\n",
    "# Print ANOVA table\n",
    "print(\"ANOVA Table:\")\n",
    "print(anova_table)"
   ]
  },
  {
   "cell_type": "code",
   "execution_count": 23,
   "id": "42498c3f",
   "metadata": {},
   "outputs": [
    {
     "data": {
      "image/png": "[encoded data removed]",
      "text/plain": [
       "<Figure size 1000x600 with 1 Axes>"
      ]
     },
     "metadata": {},
     "output_type": "display_data"
    }
   ],
   "source": [
    "import pandas as pd\n",
    "import seaborn as sns\n",
    "import matplotlib.pyplot as plt\n",
    "\n",
    "# Read data from CSV file\n",
    "# Replace 'data.csv' with the actual file name or path\n",
    "# Assuming your CSV file has columns named 'Group' and 'Value'\n",
    "# 'Group' column contains the groups/categories\n",
    "# 'Value' column contains the values to be plotted in the box plot\n",
    "\n",
    "# Set Seaborn style\n",
    "sns.set(style=\"whitegrid\")\n",
    "\n",
    "# Create box plot with Seaborn\n",
    "plt.figure(figsize=(10, 6))\n",
    "sns.boxplot(x='What is your marital status?', y='  How many hours per week do you dedicate to your on hobbies?', data=data, palette=\"Set3\")\n",
    "plt.title('')\n",
    "plt.xlabel('Marital Status')\n",
    "plt.ylabel('Values')\n",
    "plt.show()"
   ]
  },
  {
   "cell_type": "code",
   "execution_count": 26,
   "id": "99046c23",
   "metadata": {},
   "outputs": [
    {
     "name": "stdout",
     "output_type": "stream",
     "text": [
      "ANOVA results:\n",
      "                        sum_sq     df         F    PR(>F)\n",
      "C(marital_status)   224.019390    4.0  4.370851  0.001817\n",
      "Residual           4869.039051  380.0       NaN       NaN\n",
      "\n",
      "Tukey HSD test results:\n",
      " Multiple Comparison of Means - Tukey HSD, FWER=0.05  \n",
      "======================================================\n",
      " group1  group2 meandiff p-adj   lower   upper  reject\n",
      "------------------------------------------------------\n",
      "Divorce Married   -0.618 0.9706  -3.3178 2.0818  False\n",
      "Divorce Seperat      2.0 0.9048   -4.242  8.242  False\n",
      "Divorce  Single   0.5686  0.981  -2.2277  3.365  False\n",
      "Divorce Widowed  -2.1212 0.3421  -5.2506 1.0081  False\n",
      "Married Seperat    2.618 0.7167  -3.0829 8.3189  False\n",
      "Married  Single   1.1867 0.0435   0.0218 2.3515   True\n",
      "Married Widowed  -1.5032 0.1611  -3.3281 0.3217  False\n",
      "Seperat  Single  -1.4314 0.9601  -7.1786 4.3159  False\n",
      "Seperat Widowed  -4.1212 0.3141 -10.0376 1.7952  False\n",
      " Single Widowed  -2.6898 0.0019  -4.6547 -0.725   True\n",
      "------------------------------------------------------\n"
     ]
    },
    {
     "data": {
      "image/png": "[encoded data removed]",
      "text/plain": [
       "<Figure size 1000x600 with 1 Axes>"
      ]
     },
     "execution_count": 26,
     "metadata": {},
     "output_type": "execute_result"
    },
    {
     "data": {
      "image/png": "[encoded data removed]",
      "text/plain": [
       "<Figure size 1000x600 with 1 Axes>"
      ]
     },
     "metadata": {},
     "output_type": "display_data"
    }
   ],
   "source": [
    "import pandas as pd\n",
    "import statsmodels.api as sm\n",
    "from statsmodels.formula.api import ols\n",
    "from statsmodels.stats.multicomp import pairwise_tukeyhsd\n",
    "\n",
    "# Assuming your CSV has columns like 'dependent_variable' and 'independent_variable'\n",
    "# Replace them with your actual column names\n",
    "formula = 'hour_per_week ~ C(marital_status)'  # ANOVA formula\n",
    "# Perform ANOVA\n",
    "model = ols(formula, data).fit()\n",
    "anova_table = sm.stats.anova_lm(model, typ=2)\n",
    "\n",
    "print(\"ANOVA results:\")\n",
    "print(anova_table)\n",
    "\n",
    "# Perform Tukey's HSD test\n",
    "tukey = pairwise_tukeyhsd(endog=data['  How many hours per week do you dedicate to your on hobbies?'], groups=data['What is your marital status?'], alpha=0.05)\n",
    "\n",
    "# Print the summary of the test\n",
    "print(\"\\nTukey HSD test results:\")\n",
    "print(tukey.summary())\n",
    "\n",
    "# Plot the results\n",
    "tukey.plot_simultaneous()\n"
   ]
  },
  {
   "cell_type": "code",
   "execution_count": 30,
   "id": "ff099d79",
   "metadata": {},
   "outputs": [],
   "source": [
    "import numpy as np\n",
    "from sklearn.datasets import make_classification\n",
    "from sklearn.model_selection import train_test_split\n",
    "from sklearn.linear_model import LogisticRegression\n",
    "from sklearn.metrics import classification_report"
   ]
  },
  {
   "cell_type": "code",
   "execution_count": 32,
   "id": "6a1bc203",
   "metadata": {},
   "outputs": [
    {
     "name": "stdout",
     "output_type": "stream",
     "text": [
      "Logistic Regression:\n",
      "              precision    recall  f1-score   support\n",
      "\n",
      "           0       0.00      0.00      0.00         2\n",
      "           1       0.97      1.00      0.99        75\n",
      "\n",
      "    accuracy                           0.97        77\n",
      "   macro avg       0.49      0.50      0.49        77\n",
      "weighted avg       0.95      0.97      0.96        77\n",
      "\n",
      "Weighted Logistic Regression:\n",
      "              precision    recall  f1-score   support\n",
      "\n",
      "           0       0.03      0.50      0.06         2\n",
      "           1       0.98      0.59      0.73        75\n",
      "\n",
      "    accuracy                           0.58        77\n",
      "   macro avg       0.50      0.54      0.40        77\n",
      "weighted avg       0.95      0.58      0.72        77\n",
      "\n"
     ]
    },
    {
     "name": "stderr",
     "output_type": "stream",
     "text": [
      "C:\\Users\\sdkag\\anaconda3\\Lib\\site-packages\\sklearn\\metrics\\_classification.py:1469: UndefinedMetricWarning: Precision and F-score are ill-defined and being set to 0.0 in labels with no predicted samples. Use `zero_division` parameter to control this behavior.\n",
      "  _warn_prf(average, modifier, msg_start, len(result))\n",
      "C:\\Users\\sdkag\\anaconda3\\Lib\\site-packages\\sklearn\\metrics\\_classification.py:1469: UndefinedMetricWarning: Precision and F-score are ill-defined and being set to 0.0 in labels with no predicted samples. Use `zero_division` parameter to control this behavior.\n",
      "  _warn_prf(average, modifier, msg_start, len(result))\n",
      "C:\\Users\\sdkag\\anaconda3\\Lib\\site-packages\\sklearn\\metrics\\_classification.py:1469: UndefinedMetricWarning: Precision and F-score are ill-defined and being set to 0.0 in labels with no predicted samples. Use `zero_division` parameter to control this behavior.\n",
      "  _warn_prf(average, modifier, msg_start, len(result))\n"
     ]
    }
   ],
   "source": [
    "lr_model = LogisticRegression(random_state=42)\n",
    "lr_model.fit(X_train, y_train)\n",
    " \n",
    "# Make predictions with the standard model\n",
    "y_pred_lr = lr_model.predict(X_test)\n",
    " \n",
    "# Evaluate the standard model\n",
    "print(\"Logistic Regression:\")\n",
    "print(classification_report(y_test, y_pred_lr))\n",
    " \n",
    "# Fit a weighted logistic regression model\n",
    "weights = {0:98, 1:1}  \n",
    "weighted_lr_model = LogisticRegression(random_state=42, class_weight=weights)\n",
    "weighted_lr_model.fit(X_train, y_train)\n",
    " \n",
    "# Make predictions with the weighted model\n",
    "y_pred_weighted_lr = weighted_lr_model.predict(X_test)\n",
    " \n",
    "# Evaluate the weighted model\n",
    "print(\"Weighted Logistic Regression:\")\n",
    "print(classification_report(y_test, y_pred_weighted_lr))"
   ]
  },
  {
   "cell_type": "code",
   "execution_count": null,
   "id": "a64db741",
   "metadata": {},
   "outputs": [],
   "source": [
    "import pandas as pd\n",
    "from sklearn.model_selection import train_test_split\n",
    "from sklearn.linear_model import LogisticRegression\n",
    "from sklearn.metrics import accuracy_score, classification_report\n",
    "\n",
    "\n",
    "\n",
    "# Split dataset into train and test sets\n",
    "X_train, X_test, y_train, y_test = train_test_split(X, y, test_size=0.2, random_state=42)\n",
    "\n",
    "# Initialize and fit multinomial logistic regression model\n",
    "model = LogisticRegression(multi_class='multinomial', solver='lbfgs')\n",
    "model.fit(X_train, y_train)\n",
    "\n",
    "# Make predictions\n",
    "y_pred = model.predict(X_test)\n",
    "\n",
    "# Evaluate the model\n",
    "accuracy = accuracy_score(y_test, y_pred)\n",
    "print(\"Accuracy:\", accuracy)\n",
    "print(\"Classification Report:\")\n",
    "print(classification_report(y_test, y_pred))"
   ]
  }
 ],
 "metadata": {
  "kernelspec": {
   "display_name": "Python 3 (ipykernel)",
   "language": "python",
   "name": "python3"
  },
  "language_info": {
   "codemirror_mode": {
    "name": "ipython",
    "version": 3
   },
   "file_extension": ".py",
   "mimetype": "text/x-python",
   "name": "python",
   "nbconvert_exporter": "python",
   "pygments_lexer": "ipython3",
   "version": "3.11.5"
  }
 },
 "nbformat": 4,
 "nbformat_minor": 5
}
